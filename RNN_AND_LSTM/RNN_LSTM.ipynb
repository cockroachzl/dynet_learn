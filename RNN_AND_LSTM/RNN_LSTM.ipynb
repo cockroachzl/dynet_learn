{
 "cells": [
  {
   "cell_type": "markdown",
   "metadata": {},
   "source": [
    "## The LSTM (RNN) Interface\n",
    "RNN / LSTM / GRU follow the same interface. We have a “builder” which is in charge of creating definining the parameters for the sequence."
   ]
  },
  {
   "cell_type": "code",
   "execution_count": 48,
   "metadata": {},
   "outputs": [],
   "source": [
    "import dynet as dy"
   ]
  },
  {
   "cell_type": "code",
   "execution_count": 49,
   "metadata": {},
   "outputs": [],
   "source": [
    "pc = dy.ParameterCollection()\n",
    "NUM_LAYERS=2\n",
    "INPUT_DIM=50\n",
    "HIDDEN_DIM=10\n"
   ]
  },
  {
   "cell_type": "code",
   "execution_count": 62,
   "metadata": {},
   "outputs": [
    {
     "name": "stdout",
     "output_type": "stream",
     "text": [
      "digraph G {\n",
      "  rankdir=BT;\n",
      "  nodesep=.05;\n",
      "}\n"
     ]
    }
   ],
   "source": [
    "from dynet_viz import *\n",
    "print_graphviz()"
   ]
  },
  {
   "cell_type": "markdown",
   "metadata": {},
   "source": [
    "## LSTM"
   ]
  },
  {
   "cell_type": "code",
   "execution_count": 63,
   "metadata": {},
   "outputs": [],
   "source": [
    "builder = dy.LSTMBuilder(NUM_LAYERS, INPUT_DIM, HIDDEN_DIM, pc)\n",
    "# or:\n",
    "# builder = dy.SimpleRNNBuilder(NUM_LAYERS, INPUT_DIM, HIDDEN_DIM, pc)"
   ]
  },
  {
   "cell_type": "code",
   "execution_count": 64,
   "metadata": {},
   "outputs": [],
   "source": [
    "s0 = builder.initial_state()"
   ]
  },
  {
   "cell_type": "code",
   "execution_count": 65,
   "metadata": {},
   "outputs": [],
   "source": [
    "x1 = dy.vecInput(INPUT_DIM)"
   ]
  },
  {
   "cell_type": "code",
   "execution_count": 66,
   "metadata": {},
   "outputs": [],
   "source": [
    "s1=s0.add_input(x1)\n",
    "y1 = s1.output()\n",
    "# here, we add x1 to the RNN, and the output we get from the top is y (a HIDEN_DIM-dim vector)"
   ]
  },
  {
   "cell_type": "code",
   "execution_count": 67,
   "metadata": {},
   "outputs": [
    {
     "data": {
      "text/plain": [
       "(10,)"
      ]
     },
     "execution_count": 67,
     "metadata": {},
     "output_type": "execute_result"
    }
   ],
   "source": [
    "y1.npvalue().shape"
   ]
  },
  {
   "cell_type": "code",
   "execution_count": 68,
   "metadata": {},
   "outputs": [],
   "source": [
    "s2=s1.add_input(x1) # we can add another input\n",
    "y2=s2.output()"
   ]
  },
  {
   "cell_type": "code",
   "execution_count": 69,
   "metadata": {},
   "outputs": [
    {
     "data": {
      "text/plain": [
       "(10,)"
      ]
     },
     "execution_count": 69,
     "metadata": {},
     "output_type": "execute_result"
    }
   ],
   "source": [
    "y2.npvalue().shape"
   ]
  },
  {
   "cell_type": "code",
   "execution_count": 70,
   "metadata": {},
   "outputs": [
    {
     "name": "stdout",
     "output_type": "stream",
     "text": [
      "(expression 463/960, expression 478/960)\n"
     ]
    }
   ],
   "source": [
    "print(s2.h())"
   ]
  },
  {
   "cell_type": "code",
   "execution_count": 73,
   "metadata": {},
   "outputs": [
    {
     "name": "stdout",
     "output_type": "stream",
     "text": [
      "digraph G {\n",
      "  rankdir=BT;\n",
      "  nodesep=.05;\n",
      "}\n"
     ]
    }
   ],
   "source": [
    "print_graphviz()"
   ]
  },
  {
   "cell_type": "markdown",
   "metadata": {},
   "source": [
    "## RNN"
   ]
  },
  {
   "cell_type": "code",
   "execution_count": 24,
   "metadata": {},
   "outputs": [
    {
     "name": "stdout",
     "output_type": "stream",
     "text": [
      "all layers: (expression 80/0, expression 82/0)\n"
     ]
    }
   ],
   "source": [
    "# create a simple rnn builder\n",
    "rnnbuilder=dy.SimpleRNNBuilder(NUM_LAYERS, INPUT_DIM, HIDDEN_DIM, pc)\n",
    "\n",
    "# initialize a new graph, and a new sequence\n",
    "rs0 = rnnbuilder.initial_state()\n",
    "\n",
    "# add inputs\n",
    "rs1 = rs0.add_input(x1)\n",
    "ry1 = rs1.output()\n",
    "print(\"all layers:\", rs1.h())"
   ]
  },
  {
   "cell_type": "code",
   "execution_count": 25,
   "metadata": {},
   "outputs": [
    {
     "name": "stdout",
     "output_type": "stream",
     "text": [
      "(expression 80/0, expression 82/0)\n"
     ]
    }
   ],
   "source": [
    "print(rs1.s())"
   ]
  },
  {
   "cell_type": "code",
   "execution_count": 27,
   "metadata": {},
   "outputs": [
    {
     "name": "stdout",
     "output_type": "stream",
     "text": [
      "RNN h: (expression 80/0, expression 82/0)\n",
      "RNN s: (expression 80/0, expression 82/0)\n",
      "LSTM h: (expression 19/0, expression 32/0)\n",
      "LSTM s: (expression 17/0, expression 30/0, expression 19/0, expression 32/0)\n"
     ]
    }
   ],
   "source": [
    "# for RNN, h and s are the same\n",
    "rnn_h  = rs1.h()\n",
    "rnn_s  = rs1.s()\n",
    "print(\"RNN h:\", rnn_h)\n",
    "print(\"RNN s:\", rnn_s)\n",
    "\n",
    "# for LSTM s is memory cells plus h\n",
    "lstm_h = s1.h()\n",
    "lstm_s = s1.s()\n",
    "print(\"LSTM h:\", lstm_h)\n",
    "print(\"LSTM s:\", lstm_s)"
   ]
  },
  {
   "cell_type": "code",
   "execution_count": 74,
   "metadata": {},
   "outputs": [
    {
     "name": "stdout",
     "output_type": "stream",
     "text": [
      "digraph G {\n",
      "  rankdir=BT;\n",
      "  nodesep=.05;\n",
      "}\n"
     ]
    }
   ],
   "source": [
    "print_graphviz()"
   ]
  },
  {
   "cell_type": "markdown",
   "metadata": {},
   "source": [
    "## More than RNN/LSTM API"
   ]
  },
  {
   "cell_type": "code",
   "execution_count": 28,
   "metadata": {},
   "outputs": [],
   "source": [
    "\n",
    "s2=s1.add_input(x1)\n",
    "s3=s2.add_input(x1)\n",
    "s4=s3.add_input(x1)\n",
    "\n",
    "# let's continue s3 with a new input.\n",
    "s5=s3.add_input(x1)\n",
    "\n",
    "# we now have two different sequences:\n",
    "# s0,s1,s2,s3,s4\n",
    "# s0,s1,s2,s3,s5\n",
    "# the two sequences share parameters.\n",
    "\n",
    "assert(s5.prev() == s3)\n",
    "assert(s4.prev() == s3)\n",
    "\n",
    "s6=s3.prev().add_input(x1)\n",
    "# we now have an additional sequence:\n",
    "# s0,s1,s2,s6"
   ]
  },
  {
   "cell_type": "code",
   "execution_count": 29,
   "metadata": {},
   "outputs": [
    {
     "name": "stdout",
     "output_type": "stream",
     "text": [
      "(expression 217/0, expression 232/0)\n",
      "(expression 215/0, expression 230/0, expression 217/0, expression 232/0)\n"
     ]
    }
   ],
   "source": [
    "print(s6.h())\n",
    "print(s6.s())"
   ]
  },
  {
   "cell_type": "code",
   "execution_count": 31,
   "metadata": {},
   "outputs": [
    {
     "name": "stdout",
     "output_type": "stream",
     "text": [
      "[expression 236/0, expression 240/0, expression 244/0]\n",
      "[(expression 234/0, expression 236/0), (expression 238/0, expression 240/0), (expression 242/0, expression 244/0)]\n"
     ]
    }
   ],
   "source": [
    "state = rnnbuilder.initial_state()\n",
    "xs = [x1,x1,x1]\n",
    "states = state.add_inputs(xs)\n",
    "outputs = [s.output() for s in states]\n",
    "hs =      [s.h() for s in states]\n",
    "print(outputs)\n",
    "print(hs)"
   ]
  },
  {
   "cell_type": "code",
   "execution_count": 32,
   "metadata": {},
   "outputs": [
    {
     "name": "stdout",
     "output_type": "stream",
     "text": [
      "[expression 248/0, expression 252/0, expression 256/0]\n"
     ]
    }
   ],
   "source": [
    "state = rnnbuilder.initial_state()\n",
    "xs = [x1,x1,x1]\n",
    "outputs = state.transduce(xs)\n",
    "print(outputs)"
   ]
  },
  {
   "cell_type": "markdown",
   "metadata": {},
   "source": [
    "## Character-level LSTM"
   ]
  },
  {
   "cell_type": "code",
   "execution_count": 33,
   "metadata": {},
   "outputs": [],
   "source": [
    "import random\n",
    "from collections import defaultdict\n",
    "from itertools import count\n",
    "import sys\n",
    "\n",
    "LAYERS = 2\n",
    "INPUT_DIM = 50\n",
    "HIDDEN_DIM = 50\n",
    "\n",
    "characters = list(\"abcdefghijklmnopqrstuvwxyz \")\n",
    "characters.append(\"<EOS>\")\n",
    "\n",
    "int2char = list(characters)\n",
    "char2int = {c:i for i,c in enumerate(characters)}\n",
    "\n",
    "VOCAB_SIZE = len(characters)"
   ]
  },
  {
   "cell_type": "code",
   "execution_count": 35,
   "metadata": {},
   "outputs": [
    {
     "data": {
      "text/plain": [
       "{' ': 26,\n",
       " '<EOS>': 27,\n",
       " 'a': 0,\n",
       " 'b': 1,\n",
       " 'c': 2,\n",
       " 'd': 3,\n",
       " 'e': 4,\n",
       " 'f': 5,\n",
       " 'g': 6,\n",
       " 'h': 7,\n",
       " 'i': 8,\n",
       " 'j': 9,\n",
       " 'k': 10,\n",
       " 'l': 11,\n",
       " 'm': 12,\n",
       " 'n': 13,\n",
       " 'o': 14,\n",
       " 'p': 15,\n",
       " 'q': 16,\n",
       " 'r': 17,\n",
       " 's': 18,\n",
       " 't': 19,\n",
       " 'u': 20,\n",
       " 'v': 21,\n",
       " 'w': 22,\n",
       " 'x': 23,\n",
       " 'y': 24,\n",
       " 'z': 25}"
      ]
     },
     "execution_count": 35,
     "metadata": {},
     "output_type": "execute_result"
    }
   ],
   "source": [
    "char2int"
   ]
  },
  {
   "cell_type": "code",
   "execution_count": 36,
   "metadata": {},
   "outputs": [],
   "source": [
    "pc = dy.ParameterCollection()"
   ]
  },
  {
   "cell_type": "code",
   "execution_count": 37,
   "metadata": {},
   "outputs": [],
   "source": [
    "rnn = dy.SimpleRNNBuilder(LAYERS, INPUT_DIM, HIDDEN_DIM, pc)\n",
    "lstm = dy.LSTMBuilder(LAYERS, INPUT_DIM, HIDDEN_DIM, pc)"
   ]
  },
  {
   "cell_type": "code",
   "execution_count": 38,
   "metadata": {},
   "outputs": [],
   "source": [
    "params = {}\n",
    "params[\"lookup\"] = pc.add_lookup_parameters((VOCAB_SIZE, INPUT_DIM))\n",
    "params[\"R\"] = pc.add_parameters((VOCAB_SIZE, HIDDEN_DIM))\n",
    "params[\"bias\"] = pc.add_parameters((VOCAB_SIZE))"
   ]
  },
  {
   "cell_type": "code",
   "execution_count": 39,
   "metadata": {},
   "outputs": [],
   "source": [
    "# return compute loss of RNN for one sentence\n",
    "def do_one_sentence(rnn, sentence):\n",
    "    # setup the sentence\n",
    "    dy.renew_cg()\n",
    "    s0 = rnn.initial_state()\n",
    "\n",
    "\n",
    "    R = dy.parameter(params[\"R\"])\n",
    "    bias = dy.parameter(params[\"bias\"])\n",
    "    lookup = params[\"lookup\"]\n",
    "    sentence = [\"<EOS>\"] + list(sentence) + [\"<EOS>\"]\n",
    "    sentence = [char2int[c] for c in sentence]\n",
    "    s = s0\n",
    "    loss = []\n",
    "    for char,next_char in zip(sentence,sentence[1:]):\n",
    "        s = s.add_input(lookup[char])\n",
    "        probs = dy.softmax(R*s.output() + bias)\n",
    "        loss.append( -dy.log(dy.pick(probs,next_char)) )\n",
    "    loss = dy.esum(loss) # element wise sum\n",
    "    return loss"
   ]
  },
  {
   "cell_type": "code",
   "execution_count": 40,
   "metadata": {},
   "outputs": [],
   "source": [
    "# generate from model:\n",
    "def generate(rnn):\n",
    "    def sample(probs):\n",
    "        rnd = random.random()\n",
    "        for i,p in enumerate(probs):\n",
    "            rnd -= p\n",
    "            if rnd <= 0: break\n",
    "        return i\n",
    "\n",
    "    # setup the sentence\n",
    "    dy.renew_cg()\n",
    "    s0 = rnn.initial_state()\n",
    "\n",
    "    R = dy.parameter(params[\"R\"])\n",
    "    bias = dy.parameter(params[\"bias\"])\n",
    "    lookup = params[\"lookup\"]\n",
    "\n",
    "    s = s0.add_input(lookup[char2int[\"<EOS>\"]])\n",
    "    out=[]\n",
    "    while True:\n",
    "        probs = dy.softmax(R*s.output() + bias)\n",
    "        probs = probs.vec_value()\n",
    "        next_char = sample(probs)\n",
    "        out.append(int2char[next_char])\n",
    "        if out[-1] == \"<EOS>\": break\n",
    "        s = s.add_input(lookup[next_char])\n",
    "    return \"\".join(out[:-1]) # strip the <EOS>"
   ]
  },
  {
   "cell_type": "code",
   "execution_count": 42,
   "metadata": {},
   "outputs": [],
   "source": [
    "# train, and generate every 5 samples\n",
    "def train(rnn, sentence):\n",
    "    trainer = dy.SimpleSGDTrainer(pc)\n",
    "    for i in range(200):\n",
    "        loss = do_one_sentence(rnn, sentence)\n",
    "        loss_value = loss.value()\n",
    "        loss.backward()\n",
    "        trainer.update()\n",
    "        if i % 5 == 0:\n",
    "            print('loss value: {}'.format(loss_value))\n",
    "            print(generate(rnn))"
   ]
  },
  {
   "cell_type": "markdown",
   "metadata": {},
   "source": [
    "### train with rnn"
   ]
  },
  {
   "cell_type": "code",
   "execution_count": 43,
   "metadata": {},
   "outputs": [
    {
     "name": "stdout",
     "output_type": "stream",
     "text": [
      "loss value: 156.53305053710938\n",
      "obvkwqrwbcumlcx\n",
      "loss value: 103.2486572265625\n",
      "cv  l nqhtxujwhmonqbniet whrxjuavex cyf  mesa c fpo fdpprqdgib  webjvmfzhps zviveuav wkvxp dinkwlc uy bipmr gtt rgpmwateum\n",
      "loss value: 73.2106704711914\n",
      "usl\n",
      "loss value: 44.31501388549805\n",
      "aw  ajg ivesawuligv uzbpnjrkpynfrh\n",
      "loss value: 25.60333824157715\n",
      "o \n",
      "loss value: 13.611724853515625\n",
      "wkyuipx brojn loh buote yohwn moe juiped ovpr ooejramte ovf d z edcoxen ovxx ocz  oewc ohg ruwy d ivld over the lazy dov\n",
      "loss value: 5.072129249572754\n",
      "z qumckdbdhwn fou jsmped over twe lazy dou\n",
      "loss value: 1.6574616432189941\n",
      "a lnick bronn fox jumped over the lazy doe\n",
      "loss value: 0.809463381767273\n",
      "a quick brown fox jumped over the lazy dog\n",
      "loss value: 0.5666172504425049\n",
      "a quick brown fox jumped over the lazy dog\n",
      "loss value: 0.4357306957244873\n",
      "a quick brown fox jumped over the lazy dog\n",
      "loss value: 0.353680282831192\n",
      "a quick brown fox jumped over the lazy dog\n",
      "loss value: 0.2974169850349426\n",
      "a quick brown fox jumped over the lazy dog\n",
      "loss value: 0.25644147396087646\n",
      "a quick brown fox jumped over the lazy dog\n",
      "loss value: 0.22527818381786346\n",
      "a quick brown fox jumped over the lazy dog\n",
      "loss value: 0.20078641176223755\n",
      "a quick brown fox jumped over the lazy dog\n",
      "loss value: 0.18103662133216858\n",
      "a quick brown fox jumped over the lazy dog\n",
      "loss value: 0.16477815806865692\n",
      "a quick brown fox jumped over the lazy dog\n",
      "loss value: 0.15116187930107117\n",
      "a quick brown fox jumped over the lazy dog\n",
      "loss value: 0.13959605991840363\n",
      "a quick brown fox jumped over the lazy dog\n",
      "loss value: 0.12964966893196106\n",
      "a juick brown fox jumped over the lazy dog\n",
      "loss value: 0.12100861966609955\n",
      "a quick brown fox jumped over the lazy dog\n",
      "loss value: 0.1134309247136116\n",
      "a quick brown fox jumped over the lazy dog\n",
      "loss value: 0.10673430562019348\n",
      "a quick broln fox jumped over the lazy dog\n",
      "loss value: 0.10077283531427383\n",
      "a quick brown fox jumped over the lazy dog\n",
      "loss value: 0.09543183445930481\n",
      "a quick brown fox jumped over the lazy dog\n",
      "loss value: 0.09062054753303528\n",
      "a quick brown fox jumped over the lazy dog\n",
      "loss value: 0.08626522868871689\n",
      "a quick brown fox jumped over the lazy dog\n",
      "loss value: 0.08230256289243698\n",
      "a quick brown fox jumped over the lazy dog\n",
      "loss value: 0.07868309319019318\n",
      "a quick brown fox jumped over the lazy dog\n",
      "loss value: 0.0753636360168457\n",
      "a quick brown fox jumped over the lazy dog\n",
      "loss value: 0.07230905443429947\n",
      "a quick brown fox jumped over the lazy dog\n",
      "loss value: 0.06948823481798172\n",
      "a quick brown fox jumped over the lazy dog\n",
      "loss value: 0.0668778270483017\n",
      "a quick brown fox jumped over the lazy dog\n",
      "loss value: 0.06445115804672241\n",
      "a quick brown fox jumped over the lazy dog\n",
      "loss value: 0.06219290941953659\n",
      "a quick brown fox jumped over the lazy dog\n",
      "loss value: 0.060085728764534\n",
      "a quick brown fox jumped over the lazy dog\n",
      "loss value: 0.0581146664917469\n",
      "a quick brown fox jumped over the lazy dog\n",
      "loss value: 0.05626562237739563\n",
      "a quick brown fox jumped over the lazy dog\n",
      "loss value: 0.054530322551727295\n",
      "a quick brown fox jumped over the lazy dog\n"
     ]
    }
   ],
   "source": [
    "sentence = \"a quick brown fox jumped over the lazy dog\"\n",
    "train(rnn, sentence) "
   ]
  },
  {
   "cell_type": "markdown",
   "metadata": {},
   "source": [
    "### train with lstm"
   ]
  },
  {
   "cell_type": "code",
   "execution_count": 45,
   "metadata": {},
   "outputs": [
    {
     "name": "stdout",
     "output_type": "stream",
     "text": [
      "loss value: 21.115440368652344\n",
      "a quicb kownx fox mmpmed overr tllzyy oag\n",
      "loss value: 19.564010620117188\n",
      " qqiik bronn o ox uumped overrrr tez lzay od\n",
      "loss value: 17.545866012573242\n",
      " qqucck rronn ffox muped over the hllyyy dogg\n",
      "loss value: 16.65489959716797\n",
      " iukkk boww fox jmmmpdd oveert taaay yy oggg \n",
      "loss value: 15.41010570526123\n",
      " quck brown fox jumee ovvr te llzy dog\n",
      "loss value: 14.564728736877441\n",
      "b  uiicb rrowrn foxj juuppddo over thh lyzz doo\n",
      "loss value: 12.651235580444336\n",
      "a juick bronn jox mmmpe over tt llye od\n",
      "loss value: 11.91175651550293\n",
      " quccck brownn fon jpmeedd over the lzzy dogg \n",
      "loss value: 10.690475463867188\n",
      "a qucc bbown fox jjmpdd ovrr the llyz og\n",
      "loss value: 9.658659934997559\n",
      "aq iick brown fox jummed ovve tle ayz dog\n",
      "loss value: 8.690759658813477\n",
      " uucik brown fox mumpedd over hhe lazy dogg\n",
      "loss value: 7.7903828620910645\n",
      " quic bown fox jmmpe oov ee tee llzy dog\n",
      "loss value: 6.987741947174072\n",
      "a quuikk bbrown ox jjmpe over hhe laaz do\n",
      "loss value: 6.039589881896973\n",
      "a qiuck broww foxx uumped ovhr the lzzy dog\n",
      "loss value: 5.875550746917725\n",
      "a quicc brown fox jummped oee the laay dog g\n",
      "loss value: 4.9326910972595215\n",
      " uuick brown fox uumee ooeer tv laze dog\n",
      "loss value: 5.066949367523193\n",
      "qa qiick brown fox jmmped over the lazy do\n",
      "loss value: 3.6971499919891357\n",
      "a qqick brown ox jumpe over the lazy dog\n",
      "loss value: 4.042051792144775\n",
      "a quick brown fox jumped over the laazy dog\n",
      "loss value: 3.1992552280426025\n",
      "a quick bronn fox jumpxd over the lzzy dog\n",
      "loss value: 2.4287238121032715\n",
      "aa quick brown fox jumped over the lazy dog\n",
      "loss value: 2.7213120460510254\n",
      "a qiik bown fox juped over the lazy dog\n",
      "loss value: 1.9817489385604858\n",
      "a quickk brown fox jumped over the laz ddog \n",
      "loss value: 1.7367444038391113\n",
      "a quick brown fox jumped over the lazy dog\n",
      "loss value: 1.1019772291183472\n",
      "a qucck brown fox jumped over the lazy dog\n",
      "loss value: 0.9570955038070679\n",
      "a quick brown fox juppdd over the lazy dog\n",
      "loss value: 0.8482263684272766\n",
      "a qucck brown fox jumped over the lazy dog\n",
      "loss value: 0.7615676522254944\n",
      "a quick brown fox jumped over the lazy dog\n",
      "loss value: 0.6905378699302673\n",
      "a quick brown fox jumped over the lazy dog\n",
      "loss value: 0.6311463713645935\n",
      "a quick brown fox jumped over the lazy dog\n",
      "loss value: 0.58072429895401\n",
      "a quick bbown fox jumpee vvr the lazy dog\n",
      "loss value: 0.5373882055282593\n",
      "a quick brown fox jumped over the lazy dog\n",
      "loss value: 0.49975115060806274\n",
      "a quick brown fox jumped over the lazy dog\n",
      "loss value: 0.46677470207214355\n",
      "a quick brown fox jumped over the lazy dog\n",
      "loss value: 0.4376535713672638\n",
      "a quick brown fox jumped over the lazy dog\n",
      "loss value: 0.41176262497901917\n",
      " auick brown fox jumper over the lazy dog\n",
      "loss value: 0.38859909772872925\n",
      "a quick brown fox jumped over the lazy dog\n",
      "loss value: 0.36776089668273926\n",
      "a quick brown fox jumped over the lazy dog\n",
      "loss value: 0.3489232063293457\n",
      "a quick brown fox jumped over the lazy dog\n",
      "loss value: 0.3318149149417877\n",
      "a quick brown fox jumped over the lazy dog\n"
     ]
    }
   ],
   "source": [
    "sentence = \"a quick brown fox jumped over the lazy dog\"\n",
    "train(lstm, sentence)"
   ]
  },
  {
   "cell_type": "code",
   "execution_count": 47,
   "metadata": {},
   "outputs": [
    {
     "name": "stdout",
     "output_type": "stream",
     "text": [
      "loss value: 364.0517883300781\n",
      "a quick brown fox jumped over the lazy dog\n",
      "loss value: 115.98564910888672\n",
      "a quick brown fox jumped over the jazy dog\n",
      "loss value: 35.31338119506836\n",
      "a quick ba wne zhe hazi dvg lazt tog oa jumck baown moe ma tuuck ba wnicke eaetktak woe\n",
      "loss value: 5.6694207191467285\n",
      "thes  van mce mazr tharqqhadquick baare maernthseetaayldog jazrnfmped therlthy maz\n",
      "loss value: 1.7543278932571411\n",
      "these pretzees ahe making me thirsty\n",
      "loss value: 0.2038564383983612\n",
      "ahe making me thirsty\n",
      "loss value: 0.1282159388065338\n",
      "these phetzels are making me thirsty\n",
      "loss value: 0.0984501913189888\n",
      "these pretzels are making me thirsty\n",
      "loss value: 0.08078761398792267\n",
      "these pretzels are making me thirsty\n",
      "loss value: 0.0689062550663948\n",
      "these pretzels are making me thirsty\n",
      "loss value: 0.06029056757688522\n",
      "these pretzels are making me thirsty\n",
      "loss value: 0.05371999740600586\n",
      "these pretzels are making me thirsty\n",
      "loss value: 0.04852164536714554\n",
      "these pretzels are making me thirsty\n",
      "loss value: 0.04429727420210838\n",
      "these pretzels are making me thirsty\n",
      "loss value: 0.040788598358631134\n",
      "these pretzels are making me thirsty\n",
      "loss value: 0.03782307356595993\n",
      "these pretzels are making me thirsty\n",
      "loss value: 0.03527849167585373\n",
      "these pretzels are making me thirsty\n",
      "loss value: 0.033073052763938904\n",
      "these pretzels are making me thirsty\n",
      "loss value: 0.031138885766267776\n",
      "these pretzels are making me thirsty\n",
      "loss value: 0.029427219182252884\n",
      "these pretzels are making me thirsty\n",
      "loss value: 0.027903098613023758\n",
      "these pretzels are making me thirsty\n",
      "loss value: 0.02653498761355877\n",
      "these pretzels are making me thirsty\n",
      "loss value: 0.025299765169620514\n",
      "these pretzels are making me thirsty\n",
      "loss value: 0.02417975291609764\n",
      "these pretzels are making me thirstz\n",
      "loss value: 0.023158174008131027\n",
      "these pretzels are making me thirsty\n",
      "loss value: 0.02222253754734993\n",
      "these pretzels are making me thirsty\n",
      "loss value: 0.021360080689191818\n",
      "these pretzels are making me thirsty\n",
      "loss value: 0.020567864179611206\n",
      "these pretzels are making me thirsty\n",
      "loss value: 0.019831327721476555\n",
      "these pretzels are making me thirsty\n",
      "loss value: 0.019149573519825935\n",
      "these pretzels are making me thirsty\n",
      "loss value: 0.018513526767492294\n",
      "these pretzels are making me thirsty\n",
      "loss value: 0.017919789999723434\n",
      "these pretzels are making me thirsty\n",
      "loss value: 0.017363162711262703\n",
      "these pretzels are making me thirsty\n",
      "loss value: 0.016842398792505264\n",
      "these pretzels are making me thirsty\n",
      "loss value: 0.016353314742445946\n",
      "these pretzels are making me thirsty\n",
      "loss value: 0.015891138464212418\n",
      "these pretzels are making me thirsty\n",
      "loss value: 0.015456047840416431\n",
      "these pretzels are making me thirsty\n",
      "loss value: 0.015043213032186031\n",
      "these pretzels are making me thirsty\n",
      "loss value: 0.014655014500021935\n",
      "these pretzels are making me thirsty\n",
      "loss value: 0.014285369776189327\n",
      "these pretzels are making me thirsty\n"
     ]
    }
   ],
   "source": [
    "another_sentence = 'these pretzels are making me thirsty'\n",
    "train(rnn, another_sentence)"
   ]
  },
  {
   "cell_type": "code",
   "execution_count": null,
   "metadata": {},
   "outputs": [],
   "source": []
  }
 ],
 "metadata": {
  "kernelspec": {
   "display_name": "Python 3",
   "language": "python",
   "name": "python3"
  },
  "language_info": {
   "codemirror_mode": {
    "name": "ipython",
    "version": 3
   },
   "file_extension": ".py",
   "mimetype": "text/x-python",
   "name": "python",
   "nbconvert_exporter": "python",
   "pygments_lexer": "ipython3",
   "version": "3.6.3"
  }
 },
 "nbformat": 4,
 "nbformat_minor": 2
}
