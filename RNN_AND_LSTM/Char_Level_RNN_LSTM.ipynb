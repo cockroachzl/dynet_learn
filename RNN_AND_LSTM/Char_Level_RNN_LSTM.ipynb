{
 "cells": [
  {
   "cell_type": "code",
   "execution_count": 1,
   "metadata": {},
   "outputs": [],
   "source": [
    "import dynet as dy"
   ]
  },
  {
   "cell_type": "code",
   "execution_count": 2,
   "metadata": {},
   "outputs": [],
   "source": [
    "import random\n",
    "from collections import defaultdict\n",
    "from itertools import count\n",
    "import sys\n",
    "\n",
    "LAYERS = 2\n",
    "INPUT_DIM = 40\n",
    "HIDDEN_DIM = 50\n",
    "\n",
    "characters = list(\"abcdefghijklmnopqrstuvwxyz \")\n",
    "characters.append(\"<EOS>\")\n",
    "\n",
    "int2char = list(characters)\n",
    "char2int = {c:i for i,c in enumerate(characters)}\n",
    "\n",
    "VOCAB_SIZE = len(characters)"
   ]
  },
  {
   "cell_type": "code",
   "execution_count": 3,
   "metadata": {},
   "outputs": [],
   "source": [
    "pc = dy.ParameterCollection()"
   ]
  },
  {
   "cell_type": "code",
   "execution_count": 13,
   "metadata": {},
   "outputs": [
    {
     "data": {
      "text/plain": [
       "2.0"
      ]
     },
     "execution_count": 13,
     "metadata": {},
     "output_type": "execute_result"
    }
   ],
   "source": [
    "dy.__version__"
   ]
  },
  {
   "cell_type": "code",
   "execution_count": 5,
   "metadata": {},
   "outputs": [],
   "source": [
    "params = {}\n",
    "params[\"lookup\"] = pc.add_lookup_parameters((VOCAB_SIZE, INPUT_DIM))\n",
    "params[\"R\"] = pc.add_parameters((VOCAB_SIZE, HIDDEN_DIM))\n",
    "params[\"bias\"] = pc.add_parameters((VOCAB_SIZE))"
   ]
  },
  {
   "cell_type": "code",
   "execution_count": 6,
   "metadata": {},
   "outputs": [],
   "source": [
    "# return compute loss of RNN for one sentence\n",
    "def do_one_sentence(rnn, sentence):\n",
    "    # setup the sentence\n",
    "    dy.renew_cg()\n",
    "    s0 = rnn.initial_state()\n",
    "\n",
    "    R = dy.parameter(params[\"R\"])\n",
    "    bias = dy.parameter(params[\"bias\"])\n",
    "    lookup = params[\"lookup\"]\n",
    "    \n",
    "    sentence = [\"<EOS>\"] + list(sentence) + [\"<EOS>\"]\n",
    "    sentence = [char2int[c] for c in sentence]\n",
    "    s = s0\n",
    "    loss = []\n",
    "    for char,next_char in zip(sentence,sentence[1:]):\n",
    "        s = s.add_input(lookup[char])\n",
    "        probs = dy.softmax(R*s.output() + bias)\n",
    "        loss.append( -dy.log(dy.pick(probs,next_char)) )\n",
    "    loss = dy.esum(loss) # element wise sum\n",
    "    return loss"
   ]
  },
  {
   "cell_type": "code",
   "execution_count": 7,
   "metadata": {},
   "outputs": [],
   "source": [
    "# generate from model:\n",
    "def generate(rnn):\n",
    "    def sample(probs):\n",
    "        rnd = random.random()\n",
    "        for i,p in enumerate(probs):\n",
    "            rnd -= p\n",
    "            if rnd <= 0:\n",
    "                return i\n",
    "        \n",
    "    # setup the sentence\n",
    "    dy.renew_cg()\n",
    "    s0 = rnn.initial_state()\n",
    "\n",
    "    R = dy.parameter(params[\"R\"])\n",
    "    bias = dy.parameter(params[\"bias\"])\n",
    "    lookup = params[\"lookup\"]\n",
    "\n",
    "    s = s0.add_input(lookup[char2int[\"<EOS>\"]])\n",
    "    out=[]\n",
    "    while True:\n",
    "        probs = dy.softmax(R*s.output() + bias)\n",
    "        probs = probs.vec_value()\n",
    "        next_char = sample(probs)\n",
    "        out.append(int2char[next_char])\n",
    "        if out[-1] == \"<EOS>\": break\n",
    "        s = s.add_input(lookup[next_char])\n",
    "    return \"\".join(out[:-1]) # strip the <EOS>"
   ]
  },
  {
   "cell_type": "code",
   "execution_count": 8,
   "metadata": {},
   "outputs": [],
   "source": [
    "# train, and generate every 5 samples\n",
    "def train(rnn, sentence):\n",
    "    trainer = dy.SimpleSGDTrainer(pc)\n",
    "    for i in range(200):\n",
    "        loss = do_one_sentence(rnn, sentence)\n",
    "        loss_value = loss.value()\n",
    "        loss.backward()\n",
    "        trainer.update()\n",
    "        if i % 5 == 0:\n",
    "            print('loss value: {}'.format(loss_value))\n",
    "            print(generate(rnn))"
   ]
  },
  {
   "cell_type": "markdown",
   "metadata": {},
   "source": [
    "### single step"
   ]
  },
  {
   "cell_type": "code",
   "execution_count": 14,
   "metadata": {},
   "outputs": [],
   "source": [
    "dy.renew_cg()\n",
    "s0 = rnn.initial_state()\n",
    "\n",
    "R = dy.parameter(params[\"R\"])\n",
    "bias = dy.parameter(params[\"bias\"])\n",
    "lookup = params[\"lookup\"]\n",
    "\n",
    "sentence = \"a quick brown fox jumped over the lazy dog\"\n",
    "sentence = [\"<EOS>\"] + list(sentence) + [\"<EOS>\"]\n",
    "sentence = [char2int[c] for c in sentence]\n",
    "s = s0\n",
    "loss = []\n",
    "for char,next_char in zip(sentence,sentence[1:]):\n",
    "    s = s.add_input(lookup[char])\n",
    "    probs = dy.softmax(R*s.output() + bias) # the probability of each character\n",
    "    loss.append( -dy.log(dy.pick(probs,next_char)) )\n",
    "loss = dy.esum(loss) # element wise sum\n"
   ]
  },
  {
   "cell_type": "code",
   "execution_count": 138,
   "metadata": {},
   "outputs": [
    {
     "name": "stdout",
     "output_type": "stream",
     "text": [
      "loss value: 113.17980194091797\n"
     ]
    }
   ],
   "source": [
    "trainer = dy.SimpleSGDTrainer(pc)\n",
    "loss_value = loss.value() # forward\n",
    "loss.backward()\n",
    "trainer.update()\n",
    "\n",
    "print('loss value: {}'.format(loss_value))"
   ]
  },
  {
   "cell_type": "code",
   "execution_count": 139,
   "metadata": {},
   "outputs": [
    {
     "data": {
      "text/plain": [
       "'qjijai'"
      ]
     },
     "execution_count": 139,
     "metadata": {},
     "output_type": "execute_result"
    }
   ],
   "source": [
    "generate(rnn)"
   ]
  },
  {
   "cell_type": "markdown",
   "metadata": {},
   "source": [
    "### train with rnn"
   ]
  },
  {
   "cell_type": "code",
   "execution_count": 28,
   "metadata": {},
   "outputs": [
    {
     "data": {
      "text/plain": [
       "['BiRNNBuilder', 'RNNState', 'SimpleRNNBuilder', 'StackedRNNState']"
      ]
     },
     "execution_count": 28,
     "metadata": {},
     "output_type": "execute_result"
    }
   ],
   "source": [
    "[x for x in dir(dy) if 'RNN' in x]"
   ]
  },
  {
   "cell_type": "code",
   "execution_count": 9,
   "metadata": {},
   "outputs": [
    {
     "name": "stdout",
     "output_type": "stream",
     "text": [
      "loss value: 145.73895263671875\n",
      "glreyuj osr lgd \n",
      "loss value: 98.66122436523438\n",
      "uvdeoa m pglqotaxqzew f wx k lkzyhpe dxm  gcua  eyreq wk e ixhgnfq x rnvz qirddeo\n",
      "loss value: 72.92253112792969\n",
      "fcwgjnq pegrm kekugoa ijzpdlcnoxp mmf  qyacq bhehllhwhyducu kdnv\n",
      "loss value: 44.650638580322266\n",
      "qxohd bhe bax a gz\n",
      "loss value: 24.293292999267578\n",
      "j qudckzarheizg sukckdv tlo la q  bzgwrs eeu pxe luigr qrjah  d g\n",
      "loss value: 11.510405540466309\n",
      "w dogck kogrnt bu pog ooer the soze doghn  buphe otxd fver x juer ehn wwn ougckbwokyrawv npea\n",
      "loss value: 4.789723873138428\n",
      "a quick brodnroox vem\n",
      "loss value: 1.5549122095108032\n",
      "a quick broyn fox jumped over the lazy dog\n",
      "loss value: 0.8983383178710938\n",
      "a quick brown fox jumped over the lazy dog\n",
      "loss value: 0.637705385684967\n",
      "a quick brown fox jumped over the lazy dog\n",
      "loss value: 0.4936693608760834\n",
      "a quick brown fow dumpes over the lazy dog\n",
      "loss value: 0.40227362513542175\n",
      "a quick brown fox jumped over the lazy dog\n",
      "loss value: 0.3391484320163727\n",
      "a quick brown fox jumped over the lazy dog\n",
      "loss value: 0.2929597795009613\n",
      "a quick brown fox jumped over the lazy dog\n",
      "loss value: 0.25771212577819824\n",
      "a quick brown fox jumped over the lazy dog\n",
      "loss value: 0.22994083166122437\n",
      "a quick brown fox jumped over the lazy dog\n",
      "loss value: 0.20750540494918823\n",
      "a quick brown fox jumped over the lazy dog\n",
      "loss value: 0.18900565803050995\n",
      "a quick brown fox jumped over the lazy dow\n",
      "loss value: 0.17349258065223694\n",
      "a quick brown fox jumped over the lazy dog\n",
      "loss value: 0.16030186414718628\n",
      "a quick brown fox jmmped over the lazy dog\n",
      "loss value: 0.14894965291023254\n",
      "a quick brown fox jumped over the lazy dog\n",
      "loss value: 0.1390773206949234\n",
      "a quick brown fox jumped over the lazy dog\n",
      "loss value: 0.13041481375694275\n",
      "a quick brown fox jumped over the lazy dog\n",
      "loss value: 0.12275408953428268\n",
      "a quick brown fox jumped over the lazy dog\n",
      "loss value: 0.11593150347471237\n",
      "a quick brown fox jumped over the lazy dog\n",
      "loss value: 0.10981757938861847\n",
      "a quick brown fox jumped over the lazy dog\n",
      "loss value: 0.10430633276700974\n",
      "a quick brown fox jumped over the lazy dog\n",
      "loss value: 0.09931574761867523\n",
      "a quick brown fox jumped over the lazy dog\n",
      "loss value: 0.09477154910564423\n",
      "a quick brown fox jumped over the lazy dog\n",
      "loss value: 0.09062037616968155\n",
      "a quick brown fox jumped over the lazy dog\n",
      "loss value: 0.08681395649909973\n",
      "a quick brown fox jumped over the lazy dog\n",
      "loss value: 0.08330823481082916\n",
      "a quick brown fox jumped over the lazy dog\n",
      "loss value: 0.0800723135471344\n",
      "a quick brown fox jumped over the lazy dog\n",
      "loss value: 0.07707391679286957\n",
      "a quick brown fox jumped over the lazy dog\n",
      "loss value: 0.07428897172212601\n",
      "a quick brown fox jumped over the lazy dog\n",
      "loss value: 0.07169517874717712\n",
      "a quick brown fox jumped over the lazy dog\n",
      "loss value: 0.06927401572465897\n",
      "a quick brown fox jumped over the lazy dog\n",
      "loss value: 0.06700868159532547\n",
      "a quick brown fox jumped over the lazy dog\n",
      "loss value: 0.06488511711359024\n",
      "a quick brown fox jumped over the lazy dog\n",
      "loss value: 0.06288866698741913\n",
      "a quick brown fox jumped over the lazy dog\n"
     ]
    }
   ],
   "source": [
    "rnn = dy.SimpleRNNBuilder(1, INPUT_DIM, HIDDEN_DIM, pc)\n",
    "#rnn = dy.BiRNNBuilder(LAYERS, INPUT_DIM, HIDDEN_DIM, pc, dy.SimpleRNNBuilder)\n",
    "sentence = \"a quick brown fox jumped over the lazy dog\"\n",
    "train(rnn, sentence) "
   ]
  },
  {
   "cell_type": "markdown",
   "metadata": {},
   "source": [
    "### train with lstm"
   ]
  },
  {
   "cell_type": "code",
   "execution_count": 19,
   "metadata": {},
   "outputs": [
    {
     "data": {
      "text/plain": [
       "['CompactVanillaLSTMBuilder',\n",
       " 'CoupledLSTMBuilder',\n",
       " 'FastLSTMBuilder',\n",
       " 'LSTMBuilder',\n",
       " 'VanillaLSTMBuilder']"
      ]
     },
     "execution_count": 19,
     "metadata": {},
     "output_type": "execute_result"
    }
   ],
   "source": [
    "[x for x in dir(dy) if 'LSTM' in x]"
   ]
  },
  {
   "cell_type": "code",
   "execution_count": 20,
   "metadata": {},
   "outputs": [],
   "source": [
    "# lstm = dy.LSTMBuilder(LAYERS, INPUT_DIM, HIDDEN_DIM, pc)\n",
    "# lstm = dy.VanillaLSTMBuilder(LAYERS, INPUT_DIM, HIDDEN_DIM, pc)\n",
    "# lstm = dy.CompactVanillaLSTMBuilder(LAYERS, INPUT_DIM, HIDDEN_DIM, pc)\n",
    "# lstm = dy.FastLSTMBuilder(LAYERS, INPUT_DIM, HIDDEN_DIM, pc)\n",
    "lstm = dy.CoupledLSTMBuilder(1, INPUT_DIM, HIDDEN_DIM, pc)"
   ]
  },
  {
   "cell_type": "code",
   "execution_count": 11,
   "metadata": {},
   "outputs": [
    {
     "name": "stdout",
     "output_type": "stream",
     "text": [
      "loss value: 139.07766723632812\n",
      "fu xcrzchsxltyz sj ddgdphggugmdr gd aqzv rxkz qud zluqani brv ifndacq cznxmwyke lnad\n",
      "loss value: 115.39275360107422\n",
      "wrw ms zudue l ohva fr owmsxt\n",
      "loss value: 94.32356262207031\n",
      "mex uha doe do ro xzcpen uyowpwiowmytugx h\n",
      "loss value: 69.53958129882812\n",
      "k lazi de hy ow rzh uegan dowue oemte ogba  iumowy sr \n",
      "loss value: 48.09353256225586\n",
      "bpjjkr dowwu quihed bower fove theer box xqllad toe thed fox dogn lroebr thgjea thkd wuck dow xrow\n",
      "loss value: 30.93006706237793\n",
      "n lof fox luc brox jumk\n",
      "loss value: 18.736249923706055\n",
      "a quiuyc bown fox jumped oog\n",
      "loss value: 9.733725547790527\n",
      "a impe dowa fox jumpe dog\n",
      "loss value: 4.982993125915527\n",
      "a quicck  og\n",
      "loss value: 2.435997247695923\n",
      "a quick brown fox jumped over the lazy dog\n",
      "loss value: 1.6407968997955322\n",
      "a quick brown fox jumped over the lazy dog\n",
      "loss value: 1.227597951889038\n",
      "a lazy dog\n",
      "loss value: 0.9757919311523438\n",
      "a quick drown fox jumped over the lazy dog\n",
      "loss value: 0.8070783615112305\n",
      "a quick brown fox jumped over the lazy dog\n",
      "loss value: 0.6865925788879395\n",
      "a quick brown fox jumped over the lazy dog\n",
      "loss value: 0.5964891910552979\n",
      "a quick brown fox jumped over the lazy dog\n",
      "loss value: 0.526703417301178\n",
      "a quick brown fox jumped over the lazy dog\n",
      "loss value: 0.4711403250694275\n",
      "a quick brown fox jumped over the lazy dog\n",
      "loss value: 0.4259066581726074\n",
      "a quick brown fox jumped over the lazy dog\n",
      "loss value: 0.3883979320526123\n",
      "a quick brown fox jumped over the lazy dog\n",
      "loss value: 0.3568102717399597\n",
      "a quiped over the lazy dog\n",
      "loss value: 0.32985982298851013\n",
      "a quick brown fox jumped over the lazy dog\n",
      "loss value: 0.3066044747829437\n",
      "a quick brown fox jumped over the lazy dog\n",
      "loss value: 0.28634122014045715\n",
      "a quick brown fox jumped over the lazy dog\n",
      "loss value: 0.2685326933860779\n",
      "a quick brown fox jumped over the lazy dog\n",
      "loss value: 0.2527585029602051\n",
      "a quick brown fox jumped over the lazy dog\n",
      "loss value: 0.23869775235652924\n",
      "a quick brown fox jumped over the lazy dog\n",
      "loss value: 0.2260841727256775\n",
      "a quick brown fox jumped over the lazy dog\n",
      "loss value: 0.21470846235752106\n",
      "a quick brown fox jumped over the lazy dog\n",
      "loss value: 0.2043996900320053\n",
      "a quick brown fox jumped over the lazy dog\n",
      "loss value: 0.19501399993896484\n",
      "r quick brown fox jumped over the lazy dog\n",
      "loss value: 0.18643426895141602\n",
      "a quick brown fox jumped over the lazy dog\n",
      "loss value: 0.17856313288211823\n",
      "a quick brown fox jumped over the lazy dog\n",
      "loss value: 0.1713164895772934\n",
      "a quick brown fox jumped over the lazy dog\n",
      "loss value: 0.1646237075328827\n",
      "a fox jumped over the lazy dog\n",
      "loss value: 0.15842342376708984\n",
      "a quick brown fox jumjed over the lazy dog\n",
      "loss value: 0.15266452729701996\n",
      "a quick brown fox jumped over the lazy dog\n",
      "loss value: 0.1473025381565094\n",
      "a quick brown fox jumped over the lazy dog\n",
      "loss value: 0.1422976553440094\n",
      "a quick brown fox jumped over the lazy dog\n",
      "loss value: 0.13761179149150848\n",
      "a quick brown fox jumped over the lazy dog\n"
     ]
    }
   ],
   "source": [
    "sentence = \"a quick brown fox jumped over the lazy dog\"\n",
    "train(lstm, sentence)"
   ]
  },
  {
   "cell_type": "code",
   "execution_count": 13,
   "metadata": {},
   "outputs": [],
   "source": [
    "#another_sentence = 'these pretzels are making me thirsty'\n",
    "#train(rnn, another_sentence)"
   ]
  },
  {
   "cell_type": "markdown",
   "metadata": {},
   "source": [
    "## Gated Recurrent unit"
   ]
  },
  {
   "cell_type": "code",
   "execution_count": 12,
   "metadata": {},
   "outputs": [
    {
     "name": "stdout",
     "output_type": "stream",
     "text": [
      "loss value: 139.5784149169922\n",
      "swky xwojyqfxcs h aictkmrccz\n",
      "loss value: 87.63033294677734\n",
      " qugctc\n",
      "loss value: 54.1542854309082\n",
      "a aqmcc kxo ro jux sov wmnow ve qhir tcjk tpme ro jumdid ojex do ofvjummeee olrz oc afo xc nco bt ovwe luci bro o\n",
      "loss value: 32.618717193603516\n",
      "f quupd ddoe lte layd doeh lote de overe heh laz doc\n",
      "loss value: 18.67572021484375\n",
      "a rovemer olazy ogvgrwe lazyy do\n",
      "loss value: 10.506216049194336\n",
      "a bqucpd uicb browf fox jummed over lazy dog\n",
      "loss value: 5.498875617980957\n",
      "a quick bbron nox juumpd dog\n",
      "loss value: 2.603436231613159\n",
      "a quick brownn fox jumped over the the lazy dog\n",
      "loss value: 1.0432296991348267\n",
      "a quick br over the lazy dog\n",
      "loss value: 0.645311713218689\n",
      "a quick brown fox juped over the lazy dog\n",
      "loss value: 0.4766891598701477\n",
      "\n",
      "loss value: 0.3763197362422943\n",
      "a quick brown fox jumped over the lazy dog\n",
      "loss value: 0.30998367071151733\n",
      "a quick brown fox jumped over the lazy dog\n",
      "loss value: 0.26300886273384094\n",
      "a quick brown fox jumped over the lazy dog\n",
      "loss value: 0.22806742787361145\n",
      "a quick brown fox jumped over the lazy dog\n",
      "loss value: 0.20110264420509338\n",
      "a quick brown fox jumped over the lazy dog\n",
      "loss value: 0.17968833446502686\n",
      "a quick brown fox jumped over the lazy dog\n",
      "loss value: 0.1622857302427292\n",
      "a quik brown fox jumped over the lazy dog\n",
      "loss value: 0.14787685871124268\n",
      "a quick brown fox jumped ogrr the lazy dogg\n",
      "loss value: 0.13575778901576996\n",
      "a quick brown fox jumped over the lazy dog\n",
      "loss value: 0.12542851269245148\n",
      "a quick brown fox jumpd dog\n",
      "loss value: 0.1165233924984932\n",
      "a quick brown fox jumped over the lazy dog\n",
      "loss value: 0.10877053439617157\n",
      "a quick brown fox jumped over the lazy dog\n",
      "loss value: 0.1019597053527832\n",
      "a quick brown fox jumped over the lazy dog\n",
      "loss value: 0.09593522548675537\n",
      "a quick brown fox jumped over the lazy dog\n",
      "loss value: 0.09056555479764938\n",
      "a quick brown fox jumped over the lazy dog\n",
      "loss value: 0.08575268089771271\n",
      "a quick brown fox jumped over the lazy dog\n",
      "loss value: 0.08141374588012695\n",
      "a quick brown fox jumped over the lazy dog\n",
      "loss value: 0.07748403400182724\n",
      "a quick brown fox jumped over the lazy dog\n",
      "loss value: 0.07390953600406647\n",
      "a quick brown fox jumped over the lazy dog\n",
      "loss value: 0.07064193487167358\n",
      "a quick brown fox jumped over the lazy dog\n",
      "loss value: 0.06764549016952515\n",
      "a quick brown fox jumped over the lazy dog\n",
      "loss value: 0.0648878663778305\n",
      "a quick brown fox jumped over the lazy dog\n",
      "loss value: 0.062342215329408646\n",
      "a quick brown fox jumped over the lazy dog\n",
      "loss value: 0.05998567119240761\n",
      "a quick brown fox jumped over the lazy dog\n",
      "loss value: 0.05779556930065155\n",
      "a quick brown fox jumped over the lazy dog\n",
      "loss value: 0.055757541209459305\n",
      "a quick brown fox jumped over the lazy dog\n",
      "loss value: 0.05385575070977211\n",
      "a quick brown fox jumped over the lazy dog\n",
      "loss value: 0.05207613483071327\n",
      "a quick brown fox jumped over the lazy dog\n",
      "loss value: 0.05040985345840454\n",
      "a quick brown fox jumped over the lazy dog\n"
     ]
    }
   ],
   "source": [
    "gru = dy.GRUBuilder(LAYERS, INPUT_DIM, HIDDEN_DIM, pc)\n",
    "sentence = \"a quick brown fox jumped over the lazy dog\"\n",
    "train(gru, sentence)"
   ]
  },
  {
   "cell_type": "code",
   "execution_count": null,
   "metadata": {},
   "outputs": [],
   "source": []
  }
 ],
 "metadata": {
  "kernelspec": {
   "display_name": "Python 3",
   "language": "python",
   "name": "python3"
  },
  "language_info": {
   "codemirror_mode": {
    "name": "ipython",
    "version": 3
   },
   "file_extension": ".py",
   "mimetype": "text/x-python",
   "name": "python",
   "nbconvert_exporter": "python",
   "pygments_lexer": "ipython3",
   "version": "3.6.3"
  }
 },
 "nbformat": 4,
 "nbformat_minor": 2
}
