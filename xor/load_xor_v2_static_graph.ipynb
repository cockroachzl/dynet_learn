{
 "cells": [
  {
   "cell_type": "code",
   "execution_count": 3,
   "metadata": {},
   "outputs": [],
   "source": [
    "import dynet as dy"
   ]
  },
  {
   "cell_type": "code",
   "execution_count": 4,
   "metadata": {},
   "outputs": [],
   "source": [
    "# load\n",
    "m2 = dy.ParameterCollection()\n",
    "pW2 = m2.add_parameters((8,2)) # _dynet.Parameters\n",
    "pV2 = m2.add_parameters((1,8))\n",
    "pb2 = m2.add_parameters((8))\n",
    "m2.populate(\"models/xor_static_model\")"
   ]
  },
  {
   "cell_type": "code",
   "execution_count": 5,
   "metadata": {},
   "outputs": [],
   "source": [
    "W2 = dy.parameter(pW2) #W is of type _dynet.Expression\n",
    "V2 = dy.parameter(pV2)\n",
    "b2 = dy.parameter(pb2)"
   ]
  },
  {
   "cell_type": "code",
   "execution_count": 16,
   "metadata": {},
   "outputs": [],
   "source": [
    "import sys\n",
    "sys.stdout = open('/dev/stdout', 'w')"
   ]
  },
  {
   "cell_type": "code",
   "execution_count": 17,
   "metadata": {},
   "outputs": [],
   "source": [
    "dy.print_text_graphviz()"
   ]
  },
  {
   "cell_type": "code",
   "execution_count": 4,
   "metadata": {},
   "outputs": [
    {
     "data": {
      "text/plain": [
       "array([[-2.79832745,  3.65569925],\n",
       "       [ 2.30283499,  2.28838158],\n",
       "       [-0.58401084, -0.34022495],\n",
       "       [-0.8143546 , -0.74301219],\n",
       "       [ 0.3137587 ,  0.31108665],\n",
       "       [ 0.08065908,  0.21146144],\n",
       "       [-0.26102978,  0.01117267],\n",
       "       [ 3.64261055, -2.79860806]])"
      ]
     },
     "execution_count": 4,
     "metadata": {},
     "output_type": "execute_result"
    }
   ],
   "source": [
    "W2.value()"
   ]
  },
  {
   "cell_type": "code",
   "execution_count": 6,
   "metadata": {},
   "outputs": [],
   "source": [
    "# create the network\n",
    "x2 = dy.vecInput(2) # an input vector of size 2. _dynet._vecInputExpression\n",
    "output2 = dy.logistic(V2*(dy.tanh((W2*x2)+b2))) # output is _dynet.Expression"
   ]
  },
  {
   "cell_type": "code",
   "execution_count": 7,
   "metadata": {},
   "outputs": [
    {
     "name": "stdout",
     "output_type": "stream",
     "text": [
      "0,1 0.9973587989807129\n",
      "1,0 0.9973693490028381\n",
      "0,0 0.0009477359708398581\n",
      "1,1 0.0028826759662479162\n"
     ]
    }
   ],
   "source": [
    "# inference using loaded model\n",
    "x2.set([0,1])\n",
    "print(\"0,1\",output2.value())\n",
    "\n",
    "x2.set([1,0])\n",
    "print(\"1,0\",output2.value())\n",
    "\n",
    "x2.set([0,0])\n",
    "print(\"0,0\",output2.value())\n",
    "\n",
    "x2.set([1,1])\n",
    "print(\"1,1\",output2.value())"
   ]
  },
  {
   "cell_type": "code",
   "execution_count": null,
   "metadata": {},
   "outputs": [],
   "source": []
  }
 ],
 "metadata": {
  "kernelspec": {
   "display_name": "Python 3",
   "language": "python",
   "name": "python3"
  },
  "language_info": {
   "codemirror_mode": {
    "name": "ipython",
    "version": 3
   },
   "file_extension": ".py",
   "mimetype": "text/x-python",
   "name": "python",
   "nbconvert_exporter": "python",
   "pygments_lexer": "ipython3",
   "version": "3.6.3"
  }
 },
 "nbformat": 4,
 "nbformat_minor": 2
}
