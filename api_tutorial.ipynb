{
 "cells": [
  {
   "cell_type": "code",
   "execution_count": 1,
   "metadata": {},
   "outputs": [
    {
     "name": "stdout",
     "output_type": "stream",
     "text": [
      "2.0\n"
     ]
    }
   ],
   "source": [
    "import dynet as dy\n",
    "import numpy as np\n",
    "\n",
    "print(dy.__version__)"
   ]
  },
  {
   "cell_type": "markdown",
   "metadata": {},
   "source": [
    "## Create a new computation graph\n",
    "it is a singleton, we have one at each stage.\n",
    "dy.renew_cg() clears the current one and starts anew"
   ]
  },
  {
   "cell_type": "code",
   "execution_count": 2,
   "metadata": {},
   "outputs": [
    {
     "data": {
      "text/plain": [
       "<_dynet.ComputationGraph at 0x11153fbd0>"
      ]
     },
     "execution_count": 2,
     "metadata": {},
     "output_type": "execute_result"
    }
   ],
   "source": [
    "## ==== Create a new computation graph\n",
    "# (it is a singleton, we have one at each stage.\n",
    "# dy.renew_cg() clears the current one and starts anew)\n",
    "dy.renew_cg()"
   ]
  },
  {
   "cell_type": "markdown",
   "metadata": {},
   "source": [
    "## Expressions"
   ]
  },
  {
   "cell_type": "code",
   "execution_count": 3,
   "metadata": {},
   "outputs": [],
   "source": [
    "## ==== Creating Expressions from user input / constants.\n",
    "x = dy.scalarInput(123)\n",
    "\n",
    "v = dy.vecInput(3)\n",
    "v.set([1,2,3])\n",
    "\n",
    "# Or directly from a numpy array\n",
    "z = dy.inputTensor([[1,2],[3,4]]) # Row major"
   ]
  },
  {
   "cell_type": "code",
   "execution_count": 4,
   "metadata": {},
   "outputs": [
    {
     "name": "stdout",
     "output_type": "stream",
     "text": [
      "[[ 1.  2.]\n",
      " [ 3.  4.]]\n",
      "[[ 1.  2.]\n",
      " [ 3.  4.]]\n",
      "[1.0, 2.0, 3.0]\n",
      "123.0\n",
      "123.0\n"
     ]
    }
   ],
   "source": [
    "## ==== We can take the value of an expression.\n",
    "# For complex expressions, this will run forward propagation.\n",
    "print(z.value())\n",
    "print(z.npvalue())      # as numpy array\n",
    "print(v.vec_value())    # as vector, if vector\n",
    "print(x.scalar_value()) # as scalar, if scalar\n",
    "print(x.value())        # choose the correct one"
   ]
  },
  {
   "cell_type": "markdown",
   "metadata": {},
   "source": [
    "## Parameters"
   ]
  },
  {
   "cell_type": "code",
   "execution_count": 14,
   "metadata": {},
   "outputs": [],
   "source": [
    "## ==== Parameters\n",
    "# Parameters are things we tune during training.\n",
    "# Usually a matrix or a vector.\n",
    "\n",
    "# First we create a parameter collection and add the parameters to it.\n",
    "m = dy.ParameterCollection()\n",
    "pW = m.add_parameters((8,8)) # an 8x8 matrix\n",
    "pb = m.add_parameters(8)"
   ]
  },
  {
   "cell_type": "code",
   "execution_count": 37,
   "metadata": {},
   "outputs": [],
   "source": [
    "# then we create an Expression out of the parameter collection's parameters\n",
    "W = dy.parameter(pW)\n",
    "b = dy.parameter(pb)\n",
    "\n",
    "# Specifiying parameter initialization\n",
    "#p = m.add_parameters((3,5), init=0)                         # Creates 3x5 matrix filled with 0 (or any other float)\n",
    "p = m.add_parameters((3,5), init=dy.UniformInitializer(5))        # Creates 3x5 matrix initialized with U([-a,a])\n",
    "p = m.add_parameters((3,5), init=dy.NormalInitializer(0,1))   # Creates 3x5 matrix initialized with N(a, b)\n",
    "p = m.add_parameters((5,5), init=dy.IdentityInitializer())                # Creates 5x5 identity matrix\n",
    "p = m.add_parameters((3,5), init=dy.GlorotInitializer())                  # Creates 3x5 matrix with glorot init\n",
    "np_arr = np.zeros((3,5))\n",
    "p = m.add_parameters(np_arr.shape, init=dy.NumpyInitializer(np_arr)) # Creates 3x5 matrix from a numpy array (size is inferred)"
   ]
  },
  {
   "cell_type": "code",
   "execution_count": 39,
   "metadata": {},
   "outputs": [],
   "source": [
    "## ===== Lookup parameters\n",
    "# Similar to parameters, but are representing a \"lookup table\"\n",
    "# that maps numbers to vectors.\n",
    "# These are used for embedding matrices.\n",
    "# for example, this will have VOCAB_SIZE rows, each of DIM dimensions.\n",
    "VOCAB_SIZE = 50\n",
    "DIM = 100\n",
    "lp  = m.add_lookup_parameters((VOCAB_SIZE, DIM))"
   ]
  },
  {
   "cell_type": "code",
   "execution_count": 52,
   "metadata": {},
   "outputs": [
    {
     "data": {
      "text/plain": [
       "expression 22/2"
      ]
     },
     "execution_count": 52,
     "metadata": {},
     "output_type": "execute_result"
    }
   ],
   "source": [
    "# lookup parameters can be initialized from an existing array, i.e:\n",
    "# m[\"lookup\"].init_from_array(wv)\n",
    "\n",
    "e5  = dy.lookup(lp, 5)   # create an Expression from row 5.\n",
    "e5  = lp[5]           # same\n",
    "e5c = dy.lookup(lp, 5, update=False)  # as before, but don't update when optimizing.\n",
    "e5"
   ]
  },
  {
   "cell_type": "code",
   "execution_count": 53,
   "metadata": {},
   "outputs": [],
   "source": [
    "#e5.set(9)  # now the e5 expression contains row 9\n",
    "#e5c.set(9)  # ditto"
   ]
  },
  {
   "cell_type": "code",
   "execution_count": 54,
   "metadata": {},
   "outputs": [
    {
     "data": {
      "text/plain": [
       "expression 25/2"
      ]
     },
     "execution_count": 54,
     "metadata": {},
     "output_type": "execute_result"
    }
   ],
   "source": [
    "e5  = dy.lookup_batch(lp, [4, 5])   # create a batched Expression from rows 4 and 5.\n",
    "e5  = lp.batch([4, 5])           # same\n",
    "e5"
   ]
  },
  {
   "cell_type": "code",
   "execution_count": 57,
   "metadata": {},
   "outputs": [
    {
     "data": {
      "text/plain": [
       "2"
      ]
     },
     "execution_count": 57,
     "metadata": {},
     "output_type": "execute_result"
    }
   ],
   "source": [
    "dy.cg_version()"
   ]
  },
  {
   "cell_type": "code",
   "execution_count": 62,
   "metadata": {},
   "outputs": [],
   "source": [
    "# Or lookup parameters\n",
    "lp = m.add_lookup_parameters((3,5), init=dy.ConstInitializer(0))                         # Creates 3 vectors of dimension 5 filled with zeros\n",
    "lp = m.add_lookup_parameters((3,5), init=dy.UniformInitializer(5))        # Creates 3 vectors of dimension 5 initialized with U([-a,a])\n",
    "lp = m.add_lookup_parameters((3,5), init=dy.NormalInitializer(0,1))   # Creates 3 vectors of dimension 5 initialized with N(a, b)\n",
    "lp = m.add_lookup_parameters((3,5), init=dy.GlorotInitializer())                  # Creates 3 vectors of dimension 5 with glorot init\n",
    "np_arr = np.zeros((3,5))\n",
    "p = m.add_lookup_parameters(np_arr.shape, init=dy.NumpyInitializer(np_arr)) # Creates 3 vectors of dimension 5 from a numpy array (first dimension is the lookup dimension)"
   ]
  },
  {
   "cell_type": "markdown",
   "metadata": {},
   "source": [
    "## Combine expression into complex expressions"
   ]
  },
  {
   "cell_type": "code",
   "execution_count": 9,
   "metadata": {},
   "outputs": [
    {
     "name": "stdout",
     "output_type": "stream",
     "text": [
      "123.0\n",
      "2.0\n",
      "125.0\n",
      "246.0\n",
      "121.0\n",
      "-123.0\n"
     ]
    },
    {
     "ename": "ValueError",
     "evalue": "Bad input dimensions in AddVectorToAllColumns: [{1} {1}]",
     "output_type": "error",
     "traceback": [
      "\u001b[0;31m---------------------------------------------------------------------------\u001b[0m",
      "\u001b[0;31mValueError\u001b[0m                                Traceback (most recent call last)",
      "\u001b[0;32m<ipython-input-9-674d1449a79e>\u001b[0m in \u001b[0;36m<module>\u001b[0;34m()\u001b[0m\n\u001b[1;32m     16\u001b[0m \u001b[0me\u001b[0m \u001b[0;34m=\u001b[0m \u001b[0mdy\u001b[0m\u001b[0;34m.\u001b[0m\u001b[0mcmult\u001b[0m\u001b[0;34m(\u001b[0m\u001b[0me1\u001b[0m\u001b[0;34m,\u001b[0m \u001b[0me2\u001b[0m\u001b[0;34m)\u001b[0m           \u001b[0;31m# component-wise multiply  (like e1*e2 in numpy)\u001b[0m\u001b[0;34m\u001b[0m\u001b[0m\n\u001b[1;32m     17\u001b[0m \u001b[0me\u001b[0m \u001b[0;34m=\u001b[0m \u001b[0mdy\u001b[0m\u001b[0;34m.\u001b[0m\u001b[0mcdiv\u001b[0m\u001b[0;34m(\u001b[0m\u001b[0me1\u001b[0m\u001b[0;34m,\u001b[0m \u001b[0me2\u001b[0m\u001b[0;34m)\u001b[0m            \u001b[0;31m# component-wise divide\u001b[0m\u001b[0;34m\u001b[0m\u001b[0m\n\u001b[0;32m---> 18\u001b[0;31m \u001b[0me\u001b[0m \u001b[0;34m=\u001b[0m \u001b[0mdy\u001b[0m\u001b[0;34m.\u001b[0m\u001b[0mcolwise_add\u001b[0m\u001b[0;34m(\u001b[0m\u001b[0me1\u001b[0m\u001b[0;34m,\u001b[0m \u001b[0me2\u001b[0m\u001b[0;34m)\u001b[0m     \u001b[0;31m# column-wise addition\u001b[0m\u001b[0;34m\u001b[0m\u001b[0m\n\u001b[0m",
      "\u001b[0;32m_dynet.pyx\u001b[0m in \u001b[0;36m_dynet.colwise_add\u001b[0;34m()\u001b[0m\n",
      "\u001b[0;32m_dynet.pyx\u001b[0m in \u001b[0;36m_dynet.colwise_add\u001b[0;34m()\u001b[0m\n",
      "\u001b[0;31mValueError\u001b[0m: Bad input dimensions in AddVectorToAllColumns: [{1} {1}]"
     ]
    }
   ],
   "source": [
    "e1 = dy.scalarInput(123)\n",
    "e2 = dy.scalarInput(2)\n",
    "print(e1.value())\n",
    "print(e2.value())\n",
    "# Math\n",
    "e = e1 + e2\n",
    "print(e.value())\n",
    "e = e1 * e2   # for vectors/matrices: matrix multiplication (like e1.dot(e2) in numpy)\n",
    "print(e.value())\n",
    "e = e1 - e2\n",
    "print(e.value())\n",
    "e = -e1\n",
    "print(e.value())"
   ]
  },
  {
   "cell_type": "code",
   "execution_count": 6,
   "metadata": {},
   "outputs": [
    {
     "name": "stdout",
     "output_type": "stream",
     "text": [
      "[1.0, 2.0, 3.0]\n",
      "[3.0, 2.0, 1.0]\n",
      "10.0\n",
      "[3.0, 4.0, 3.0]\n",
      "[0.3333333432674408, 1.0, 3.0]\n",
      "[[ 4.  5.]\n",
      " [ 5.  6.]\n",
      " [ 6.  7.]]\n"
     ]
    }
   ],
   "source": [
    "e1 = dy.vecInput(3)\n",
    "e1.set([1,2,3])\n",
    "print(e1.value())\n",
    "e2 = dy.vecInput(3)\n",
    "e2.set([3,2,1])\n",
    "print(e2.value())\n",
    "\n",
    "e = dy.dot_product(e1, e2)\n",
    "print(e.value())\n",
    "e = dy.cmult(e1, e2)           # component-wise multiply  (like e1*e2 in numpy)\n",
    "print(e.value())\n",
    "e = dy.cdiv(e1, e2)            # component-wise divide\n",
    "print(e.value())\n",
    "\n",
    "m1 = dy.inputTensor([[1,2],[3,4],[5,6]])\n",
    "m2 = dy.colwise_add(m1, e2)     # column-wise addition\n",
    "print(m2.value())"
   ]
  },
  {
   "cell_type": "code",
   "execution_count": null,
   "metadata": {},
   "outputs": [],
   "source": []
  }
 ],
 "metadata": {
  "kernelspec": {
   "display_name": "Python 3",
   "language": "python",
   "name": "python3"
  },
  "language_info": {
   "codemirror_mode": {
    "name": "ipython",
    "version": 3
   },
   "file_extension": ".py",
   "mimetype": "text/x-python",
   "name": "python",
   "nbconvert_exporter": "python",
   "pygments_lexer": "ipython3",
   "version": "3.6.3"
  }
 },
 "nbformat": 4,
 "nbformat_minor": 2
}
