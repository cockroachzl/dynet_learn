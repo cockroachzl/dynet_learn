{
 "cells": [
  {
   "cell_type": "markdown",
   "metadata": {},
   "source": [
    "In dynamic approach, a new network will be created for each training example.\n",
    "It  is very convenient for networks for which the structure is not fixed,such as recurrent or recursive networks."
   ]
  },
  {
   "cell_type": "code",
   "execution_count": 2,
   "metadata": {},
   "outputs": [],
   "source": [
    "import dynet as dy"
   ]
  },
  {
   "cell_type": "code",
   "execution_count": 3,
   "metadata": {},
   "outputs": [],
   "source": [
    "# create training instances, as before\n",
    "def create_xor_instances(num_rounds=2000):\n",
    "    questions = []\n",
    "    answers = []\n",
    "    for round in range(num_rounds):\n",
    "        for x1 in 0,1:\n",
    "            for x2 in 0,1:\n",
    "                answer = 0 if x1==x2 else 1\n",
    "                questions.append((x1,x2))\n",
    "                answers.append(answer)\n",
    "    return questions, answers"
   ]
  },
  {
   "cell_type": "code",
   "execution_count": 4,
   "metadata": {},
   "outputs": [],
   "source": [
    "# create a network for the xor problem given input and output\n",
    "def create_xor_network(pW, pV, pb, inputs, expected_answer):\n",
    "    dy.renew_cg() # new computation graph\n",
    "    W = dy.parameter(pW) # add parameters to graph as expressions\n",
    "    V = dy.parameter(pV)\n",
    "    b = dy.parameter(pb)\n",
    "    x = dy.vecInput(len(inputs))\n",
    "    x.set(inputs)\n",
    "    y = dy.scalarInput(expected_answer)\n",
    "    output = dy.logistic(V*(dy.tanh((W*x)+b)))\n",
    "    loss =  dy.binary_log_loss(output, y)\n",
    "    return loss"
   ]
  },
  {
   "cell_type": "code",
   "execution_count": 5,
   "metadata": {},
   "outputs": [],
   "source": [
    "m2 = dy.ParameterCollection()\n",
    "pW = m2.add_parameters((8,2))\n",
    "pV = m2.add_parameters((1,8))\n",
    "pb = m2.add_parameters((8))\n",
    "trainer = dy.SimpleSGDTrainer(m2)\n",
    "# generate training data\n",
    "questions, answers = create_xor_instances()"
   ]
  },
  {
   "cell_type": "code",
   "execution_count": 6,
   "metadata": {},
   "outputs": [
    {
     "name": "stdout",
     "output_type": "stream",
     "text": [
      "average loss is: 0.705782232284546\n",
      "average loss is: 0.6587769040465354\n",
      "average loss is: 0.5938927568991978\n",
      "average loss is: 0.5207816545665264\n",
      "average loss is: 0.45379536636173723\n",
      "average loss is: 0.3984465444770952\n",
      "average loss is: 0.3538688406667539\n",
      "average loss is: 0.3178111524367705\n",
      "average loss is: 0.2882649597773949\n",
      "average loss is: 0.2637010224517435\n",
      "average loss is: 0.24299547191285953\n",
      "average loss is: 0.225322909548413\n",
      "average loss is: 0.2100705643112843\n",
      "average loss is: 0.19677691215915338\n",
      "average loss is: 0.18508905303291975\n",
      "average loss is: 0.17473317301017233\n",
      "average loss is: 0.1654938919825808\n",
      "average loss is: 0.15719963926433897\n",
      "average loss is: 0.14971214777397873\n",
      "average loss is: 0.142918800272746\n",
      "average loss is: 0.13672697506490208\n",
      "average loss is: 0.13105981387219137\n",
      "average loss is: 0.12585301618354963\n",
      "average loss is: 0.12105238193587865\n",
      "average loss is: 0.11661190433688462\n",
      "average loss is: 0.11249228119250172\n",
      "average loss is: 0.1086597370098483\n",
      "average loss is: 0.10508508560721697\n",
      "average loss is: 0.10174297483798501\n",
      "average loss is: 0.09861127852609691\n",
      "average loss is: 0.09567059825452405\n",
      "average loss is: 0.09290385533597145\n",
      "average loss is: 0.0902959531887124\n",
      "average loss is: 0.08783349862938528\n",
      "average loss is: 0.08550456747253027\n",
      "average loss is: 0.08329850853931728\n",
      "average loss is: 0.08120577773022641\n",
      "average loss is: 0.07921779769950693\n",
      "average loss is: 0.07732683814160574\n",
      "average loss is: 0.07552591362054227\n",
      "average loss is: 0.07380869586475011\n",
      "average loss is: 0.0721694384010819\n",
      "average loss is: 0.07060291073344604\n",
      "average loss is: 0.06910434174097398\n",
      "average loss is: 0.06766937007555841\n",
      "average loss is: 0.06629400127744504\n",
      "average loss is: 0.06497456966185981\n",
      "average loss is: 0.06370770533845643\n",
      "average loss is: 0.06249030466621495\n",
      "average loss is: 0.06131950453347527\n",
      "average loss is: 0.060192659403443996\n",
      "average loss is: 0.059107321190038836\n",
      "average loss is: 0.05806122068559558\n",
      "average loss is: 0.05705225202287289\n",
      "average loss is: 0.05607845781775276\n",
      "average loss is: 0.05513801650749104\n",
      "average loss is: 0.05422923056198398\n",
      "average loss is: 0.05335051627064943\n",
      "average loss is: 0.05250039417533425\n",
      "average loss is: 0.05167748071098079\n",
      "average loss is: 0.050880480429012574\n",
      "average loss is: 0.05010817919885965\n",
      "average loss is: 0.04935943797426594\n",
      "average loss is: 0.04863318679032091\n",
      "average loss is: 0.04792841981236751\n",
      "average loss is: 0.04724419046330943\n",
      "average loss is: 0.046579607275797665\n",
      "average loss is: 0.045933829903883366\n",
      "average loss is: 0.045306065278566454\n",
      "average loss is: 0.0446955646213776\n",
      "average loss is: 0.044101620239048255\n",
      "average loss is: 0.043523562637015456\n",
      "average loss is: 0.0429607581634438\n",
      "average loss is: 0.04241260651681522\n",
      "average loss is: 0.04187853862425933\n",
      "average loss is: 0.04135801459783627\n",
      "average loss is: 0.04085052189878309\n",
      "average loss is: 0.0403555737183883\n",
      "average loss is: 0.039872707180042245\n",
      "average loss is: 0.03940148206632876\n"
     ]
    }
   ],
   "source": [
    "seen_instances = 0\n",
    "total_loss = 0\n",
    "for question, answer in zip(questions, answers):\n",
    "    loss = create_xor_network(pW, pV, pb, question, answer)\n",
    "    seen_instances += 1\n",
    "    total_loss += loss.value()\n",
    "    loss.backward()\n",
    "    trainer.update()\n",
    "    if (seen_instances > 1 and seen_instances % 100 == 0):\n",
    "        print(\"average loss is:\",total_loss / seen_instances)"
   ]
  },
  {
   "cell_type": "code",
   "execution_count": 9,
   "metadata": {},
   "outputs": [
    {
     "name": "stdout",
     "output_type": "stream",
     "text": [
      "0,1 0.9974074959754944\n",
      "1,0 0.9974489808082581\n",
      "0,0 0.000981291988864541\n",
      "1,1 0.0024815259966999292\n"
     ]
    }
   ],
   "source": [
    "W = dy.parameter(pW) # add parameters to graph as expressions\n",
    "V = dy.parameter(pV)\n",
    "b = dy.parameter(pb)\n",
    "\n",
    "x = dy.vecInput(2)\n",
    "output = dy.logistic(V*(dy.tanh((W*x)+b)))\n",
    "\n",
    "x.set([0,1])\n",
    "print(\"0,1\",output.value())\n",
    "\n",
    "x.set([1,0])\n",
    "print(\"1,0\",output.value())\n",
    "\n",
    "x.set([0,0])\n",
    "print(\"0,0\",output.value())\n",
    "\n",
    "x.set([1,1])\n",
    "print(\"1,1\",output.value())"
   ]
  },
  {
   "cell_type": "code",
   "execution_count": 10,
   "metadata": {},
   "outputs": [
    {
     "data": {
      "text/plain": [
       "array([[ 2.35455251, -0.31278911],\n",
       "       [ 0.02165096,  0.20400636],\n",
       "       [ 0.20177996,  0.25507054],\n",
       "       [-0.79492658,  1.63114166],\n",
       "       [ 2.95638204, -2.04186893],\n",
       "       [-0.91733837, -0.88101178],\n",
       "       [ 2.75860119, -3.49698901],\n",
       "       [-3.08252001, -3.11936283]])"
      ]
     },
     "execution_count": 10,
     "metadata": {},
     "output_type": "execute_result"
    }
   ],
   "source": [
    "W.value()"
   ]
  },
  {
   "cell_type": "code",
   "execution_count": 11,
   "metadata": {},
   "outputs": [
    {
     "data": {
      "text/plain": [
       "array([[-2.66608906, -0.36562508, -0.46586332, -1.13950741, -3.59327698,\n",
       "         1.95217037,  4.9609127 , -5.6073904 ]])"
      ]
     },
     "execution_count": 11,
     "metadata": {},
     "output_type": "execute_result"
    }
   ],
   "source": [
    "V.value()"
   ]
  },
  {
   "cell_type": "code",
   "execution_count": 12,
   "metadata": {},
   "outputs": [
    {
     "data": {
      "text/plain": [
       "[-0.838267982006073,\n",
       " -0.33615848422050476,\n",
       " -0.4286726713180542,\n",
       " 0.11290086805820465,\n",
       " 0.7609386444091797,\n",
       " 1.5590980052947998,\n",
       " -1.18702232837677,\n",
       " 1.0107641220092773]"
      ]
     },
     "execution_count": 12,
     "metadata": {},
     "output_type": "execute_result"
    }
   ],
   "source": [
    "b.value()"
   ]
  },
  {
   "cell_type": "code",
   "execution_count": 13,
   "metadata": {},
   "outputs": [],
   "source": [
    "m2.save('models/xor_dynamic_model')"
   ]
  },
  {
   "cell_type": "code",
   "execution_count": null,
   "metadata": {},
   "outputs": [],
   "source": []
  }
 ],
 "metadata": {
  "kernelspec": {
   "display_name": "Python 3",
   "language": "python",
   "name": "python3"
  },
  "language_info": {
   "codemirror_mode": {
    "name": "ipython",
    "version": 3
   },
   "file_extension": ".py",
   "mimetype": "text/x-python",
   "name": "python",
   "nbconvert_exporter": "python",
   "pygments_lexer": "ipython3",
   "version": "3.6.3"
  }
 },
 "nbformat": 4,
 "nbformat_minor": 2
}
