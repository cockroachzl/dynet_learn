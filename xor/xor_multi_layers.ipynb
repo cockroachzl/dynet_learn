{
 "cells": [
  {
   "cell_type": "code",
   "execution_count": 11,
   "metadata": {},
   "outputs": [],
   "source": [
    "# Static network\n",
    "import dynet as dy\n",
    "\n",
    "# multilayer perceptron with two hidden layers\n",
    "# input 2 nodes\n",
    "# hidden layer 1: 8 nodes, activation: tanh\n",
    "# hiddne layer 2: 4 nodes, activation: tanh\n",
    "# output layer: 1 node\n",
    "# tanh(V(tanh(Wx+b))+c)\n",
    "# x: 2x1\n",
    "# W: 8x2\n",
    "# b: 8 vector\n",
    "# V: 4x8\n",
    "# c: 4 \n",
    "# U: 1x4\n",
    "\n",
    "# define the parameters\n",
    "m = dy.ParameterCollection()\n",
    "pW = m.add_parameters((8,2)) # _dynet.Parameters\n",
    "pb = m.add_parameters((8))\n",
    "pV = m.add_parameters((4,8))\n",
    "pc = m.add_parameters((4))\n",
    "pU = m.add_parameters((1,4))"
   ]
  },
  {
   "cell_type": "code",
   "execution_count": 12,
   "metadata": {},
   "outputs": [
    {
     "data": {
      "text/plain": [
       "<_dynet.ComputationGraph at 0x1097cbbd0>"
      ]
     },
     "execution_count": 12,
     "metadata": {},
     "output_type": "execute_result"
    }
   ],
   "source": [
    "dy.renew_cg()"
   ]
  },
  {
   "cell_type": "code",
   "execution_count": 13,
   "metadata": {},
   "outputs": [],
   "source": [
    "# parameter to expression\n",
    "W = dy.parameter(pW) #W is of type _dynet.Expression\n",
    "b = dy.parameter(pb)\n",
    "V = dy.parameter(pV)\n",
    "c = dy.parameter(pc)\n",
    "U = dy.parameter(pU)"
   ]
  },
  {
   "cell_type": "code",
   "execution_count": 14,
   "metadata": {},
   "outputs": [
    {
     "name": "stdout",
     "output_type": "stream",
     "text": [
      "W.dimension: ((8, 2), 1)\n",
      "b.dimension: ((8,), 1)\n",
      "V.dimension: ((4, 8), 1)\n",
      "c.dimension: ((4,), 1)\n",
      "U.dimension: ((1, 4), 1)\n"
     ]
    }
   ],
   "source": [
    "print('W.dimension: {}'.format(W.dim()))\n",
    "print('b.dimension: {}'.format(b.dim()))\n",
    "print('V.dimension: {}'.format(V.dim()))\n",
    "print('c.dimension: {}'.format(c.dim()))\n",
    "print('U.dimension: {}'.format(U.dim()))"
   ]
  },
  {
   "cell_type": "code",
   "execution_count": 15,
   "metadata": {},
   "outputs": [],
   "source": [
    "# create the network\n",
    "x = dy.vecInput(2) # an input vector of size 2. _dynet._vecInputExpression\n",
    "output = dy.logistic(U*(dy.tanh(V*(dy.tanh((W*x)+b))+c))) # output is _dynet.Expression"
   ]
  },
  {
   "cell_type": "code",
   "execution_count": 16,
   "metadata": {},
   "outputs": [
    {
     "data": {
      "text/plain": [
       "0.5899962186813354"
      ]
     },
     "execution_count": 16,
     "metadata": {},
     "output_type": "execute_result"
    }
   ],
   "source": [
    "# we can now query our network\n",
    "x.set([0,0])\n",
    "output.value()"
   ]
  },
  {
   "cell_type": "code",
   "execution_count": 17,
   "metadata": {},
   "outputs": [],
   "source": [
    "y = dy.scalarInput(0) # this will hold the correct answer\n",
    "loss = dy.binary_log_loss(output, y)"
   ]
  },
  {
   "cell_type": "code",
   "execution_count": 18,
   "metadata": {},
   "outputs": [
    {
     "data": {
      "text/plain": [
       "((1,), 1)"
      ]
     },
     "execution_count": 18,
     "metadata": {},
     "output_type": "execute_result"
    }
   ],
   "source": [
    "loss.dim()"
   ]
  },
  {
   "cell_type": "code",
   "execution_count": 19,
   "metadata": {},
   "outputs": [],
   "source": [
    "trainer = dy.SimpleSGDTrainer(m)"
   ]
  },
  {
   "cell_type": "code",
   "execution_count": 20,
   "metadata": {},
   "outputs": [
    {
     "name": "stdout",
     "output_type": "stream",
     "text": [
      "the loss before step is: 0.5648019313812256\n",
      "the loss after step is: 0.48412010073661804\n"
     ]
    }
   ],
   "source": [
    "# single step optimization/training\n",
    "\n",
    "x.set([1,0])\n",
    "y.set(1)\n",
    "loss_value = loss.value() # this performs a forward through the network.\n",
    "print(\"the loss before step is:\",loss_value)\n",
    "\n",
    "# now do an optimization step\n",
    "loss.backward()  # compute the gradients\n",
    "trainer.update()\n",
    "\n",
    "# see how it affected the loss:\n",
    "loss_value = loss.value(recalculate=True) # recalculate=True means \"don't use precomputed value\"\n",
    "print(\"the loss after step is:\",loss_value)"
   ]
  },
  {
   "cell_type": "code",
   "execution_count": 21,
   "metadata": {},
   "outputs": [],
   "source": [
    "# create training data set\n",
    "def create_xor_instances(num_rounds=2000):\n",
    "    questions = []\n",
    "    answers = []\n",
    "    for round in range(num_rounds):\n",
    "        for x1 in 0,1:\n",
    "            for x2 in 0,1:\n",
    "                answer = 0 if x1==x2 else 1\n",
    "                questions.append((x1,x2))\n",
    "                answers.append(answer)\n",
    "    return questions, answers\n",
    "\n",
    "questions, answers = create_xor_instances()"
   ]
  },
  {
   "cell_type": "code",
   "execution_count": 22,
   "metadata": {},
   "outputs": [
    {
     "name": "stdout",
     "output_type": "stream",
     "text": [
      "average loss is: 0.7265449064970017\n",
      "average loss is: 0.6984464120864868\n",
      "average loss is: 0.6532946837941805\n",
      "average loss is: 0.5971078788116574\n",
      "average loss is: 0.5270029918029905\n",
      "average loss is: 0.4615929839635889\n",
      "average loss is: 0.4081690049943115\n",
      "average loss is: 0.36513409022591076\n",
      "average loss is: 0.33003903024622966\n",
      "average loss is: 0.30092951175104826\n",
      "average loss is: 0.2763945693336427\n",
      "average loss is: 0.25544368294960196\n",
      "average loss is: 0.23736714454009555\n",
      "average loss is: 0.2216324415348936\n",
      "average loss is: 0.20782698009690892\n",
      "average loss is: 0.19562589112843853\n",
      "average loss is: 0.18477075937121887\n",
      "average loss is: 0.17505420053739928\n",
      "average loss is: 0.16630833996790706\n",
      "average loss is: 0.158396128852095\n",
      "average loss is: 0.15120475837594963\n",
      "average loss is: 0.1446406377083622\n",
      "average loss is: 0.1386255380129138\n",
      "average loss is: 0.1330936080806714\n",
      "average loss is: 0.12798904782007448\n",
      "average loss is: 0.12326427972432262\n",
      "average loss is: 0.11887850037077442\n",
      "average loss is: 0.11479652462419056\n",
      "average loss is: 0.11098785674135232\n",
      "average loss is: 0.10742593829306618\n",
      "average loss is: 0.10408753531861059\n",
      "average loss is: 0.10095223618674937\n",
      "average loss is: 0.09800203678602085\n",
      "average loss is: 0.09522099718138206\n",
      "average loss is: 0.09259495452197734\n",
      "average loss is: 0.09011128263945768\n",
      "average loss is: 0.08775868960646786\n",
      "average loss is: 0.08552704634932237\n",
      "average loss is: 0.08340724104709434\n",
      "average loss is: 0.08139105456227844\n",
      "average loss is: 0.07947105374699742\n",
      "average loss is: 0.07764050001530753\n",
      "average loss is: 0.07589327009431314\n",
      "average loss is: 0.07422378724923791\n",
      "average loss is: 0.07262696172312523\n",
      "average loss is: 0.07109813890909604\n",
      "average loss is: 0.06963305354975362\n",
      "average loss is: 0.06822779015611256\n",
      "average loss is: 0.06687874775978604\n",
      "average loss is: 0.06558260886346688\n",
      "average loss is: 0.0643363122914589\n",
      "average loss is: 0.06313702869323047\n",
      "average loss is: 0.06198213905253105\n",
      "average loss is: 0.060869215725235536\n",
      "average loss is: 0.05979600498985118\n",
      "average loss is: 0.058760411754140346\n",
      "average loss is: 0.05776048602152355\n",
      "average loss is: 0.05679441036219941\n",
      "average loss is: 0.05586048906312869\n",
      "average loss is: 0.05495713784903637\n",
      "average loss is: 0.05408287487201752\n",
      "average loss is: 0.053236312795282084\n",
      "average loss is: 0.05241615124194632\n",
      "average loss is: 0.051621170016815085\n",
      "average loss is: 0.05085022313752247\n",
      "average loss is: 0.05010223315325372\n",
      "average loss is: 0.049376186234437784\n",
      "average loss is: 0.04867112740816939\n",
      "average loss is: 0.04798615647127272\n",
      "average loss is: 0.04732042398978124\n",
      "average loss is: 0.04667312785170228\n",
      "average loss is: 0.04604350995976953\n",
      "average loss is: 0.045430853298744855\n",
      "average loss is: 0.044834479188323936\n",
      "average loss is: 0.044253744731160505\n",
      "average loss is: 0.04368804050555474\n",
      "average loss is: 0.04313678832071177\n",
      "average loss is: 0.0425994393981147\n",
      "average loss is: 0.04207547237033753\n",
      "average loss is: 0.04156439176005369\n"
     ]
    }
   ],
   "source": [
    "# training\n",
    "total_loss = 0\n",
    "seen_instances = 0\n",
    "for question, answer in zip(questions, answers):\n",
    "    x.set(question)\n",
    "    y.set(answer)\n",
    "    seen_instances += 1\n",
    "    total_loss += loss.value() # forward\n",
    "    loss.backward()\n",
    "    trainer.update()\n",
    "    if (seen_instances > 1 and seen_instances % 100 == 0):\n",
    "        print(\"average loss is:\",total_loss / seen_instances)"
   ]
  },
  {
   "cell_type": "code",
   "execution_count": 23,
   "metadata": {},
   "outputs": [
    {
     "name": "stdout",
     "output_type": "stream",
     "text": [
      "0,1 0.999601423740387\n",
      "1,0 0.9984966516494751\n",
      "0,0 0.0012946868082508445\n",
      "1,1 0.0015207799151539803\n"
     ]
    }
   ],
   "source": [
    "# inference\n",
    "x.set([0,1])\n",
    "print(\"0,1\",output.value())\n",
    "\n",
    "x.set([1,0])\n",
    "print(\"1,0\",output.value())\n",
    "\n",
    "x.set([0,0])\n",
    "print(\"0,0\",output.value())\n",
    "\n",
    "x.set([1,1])\n",
    "print(\"1,1\",output.value())"
   ]
  },
  {
   "cell_type": "code",
   "execution_count": 24,
   "metadata": {},
   "outputs": [
    {
     "data": {
      "text/plain": [
       "array([[ 0.70821732, -0.86799341],\n",
       "       [ 1.20668006, -0.3391819 ],\n",
       "       [ 2.16869354, -1.97315001],\n",
       "       [ 1.31976581,  0.75390619],\n",
       "       [-0.84980679, -0.44870019],\n",
       "       [ 1.06544614, -1.41449165],\n",
       "       [ 0.17298394,  1.48912907],\n",
       "       [-0.7218827 , -0.54132581]])"
      ]
     },
     "execution_count": 24,
     "metadata": {},
     "output_type": "execute_result"
    }
   ],
   "source": [
    "W.value()"
   ]
  },
  {
   "cell_type": "code",
   "execution_count": 25,
   "metadata": {},
   "outputs": [
    {
     "data": {
      "text/plain": [
       "array([[-0.14111596, -1.06471193,  0.85738766, -1.65977442,  0.81961733,\n",
       "        -0.63111877, -1.04056764,  0.88709134],\n",
       "       [-0.99556535, -0.93962252,  0.28507039, -0.34893525,  0.16688518,\n",
       "        -1.38976574,  0.59902334, -0.32455865],\n",
       "       [ 0.50615299, -0.2314343 , -1.16259253, -1.12978232, -0.46192959,\n",
       "         0.87956804, -1.67490542,  0.73403549],\n",
       "       [-0.42158768,  0.20856887, -2.4908185 ,  0.01037794,  0.39839748,\n",
       "        -0.83903939,  0.52883697,  0.72344977]])"
      ]
     },
     "execution_count": 25,
     "metadata": {},
     "output_type": "execute_result"
    }
   ],
   "source": [
    "V.value()"
   ]
  },
  {
   "cell_type": "code",
   "execution_count": 26,
   "metadata": {},
   "outputs": [
    {
     "data": {
      "text/plain": [
       "array([[-4.09640837, -2.86995101,  4.00715542,  4.03360462]])"
      ]
     },
     "execution_count": 26,
     "metadata": {},
     "output_type": "execute_result"
    }
   ],
   "source": [
    "U.value()"
   ]
  },
  {
   "cell_type": "code",
   "execution_count": null,
   "metadata": {},
   "outputs": [],
   "source": []
  }
 ],
 "metadata": {
  "kernelspec": {
   "display_name": "Python 3",
   "language": "python",
   "name": "python3"
  },
  "language_info": {
   "codemirror_mode": {
    "name": "ipython",
    "version": 3
   },
   "file_extension": ".py",
   "mimetype": "text/x-python",
   "name": "python",
   "nbconvert_exporter": "python",
   "pygments_lexer": "ipython3",
   "version": "3.6.3"
  }
 },
 "nbformat": 4,
 "nbformat_minor": 2
}
