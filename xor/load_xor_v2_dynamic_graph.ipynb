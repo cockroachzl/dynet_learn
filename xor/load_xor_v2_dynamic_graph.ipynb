{
 "cells": [
  {
   "cell_type": "code",
   "execution_count": 1,
   "metadata": {},
   "outputs": [],
   "source": [
    "import dynet as dy"
   ]
  },
  {
   "cell_type": "code",
   "execution_count": 3,
   "metadata": {},
   "outputs": [
    {
     "ename": "RuntimeError",
     "evalue": "Could not read model from models/xor_dynamic_model",
     "output_type": "error",
     "traceback": [
      "\u001b[0;31m---------------------------------------------------------------------------\u001b[0m",
      "\u001b[0;31mRuntimeError\u001b[0m                              Traceback (most recent call last)",
      "\u001b[0;32m<ipython-input-3-75ad12b14f2a>\u001b[0m in \u001b[0;36m<module>\u001b[0;34m()\u001b[0m\n\u001b[1;32m      4\u001b[0m \u001b[0mpV2\u001b[0m \u001b[0;34m=\u001b[0m \u001b[0mm2\u001b[0m\u001b[0;34m.\u001b[0m\u001b[0madd_parameters\u001b[0m\u001b[0;34m(\u001b[0m\u001b[0;34m(\u001b[0m\u001b[0;36m1\u001b[0m\u001b[0;34m,\u001b[0m\u001b[0;36m8\u001b[0m\u001b[0;34m)\u001b[0m\u001b[0;34m)\u001b[0m\u001b[0;34m\u001b[0m\u001b[0m\n\u001b[1;32m      5\u001b[0m \u001b[0mpb2\u001b[0m \u001b[0;34m=\u001b[0m \u001b[0mm2\u001b[0m\u001b[0;34m.\u001b[0m\u001b[0madd_parameters\u001b[0m\u001b[0;34m(\u001b[0m\u001b[0;34m(\u001b[0m\u001b[0;36m8\u001b[0m\u001b[0;34m)\u001b[0m\u001b[0;34m)\u001b[0m\u001b[0;34m\u001b[0m\u001b[0m\n\u001b[0;32m----> 6\u001b[0;31m \u001b[0mm2\u001b[0m\u001b[0;34m.\u001b[0m\u001b[0mpopulate\u001b[0m\u001b[0;34m(\u001b[0m\u001b[0;34m\"models/xor_dynamic_model\"\u001b[0m\u001b[0;34m)\u001b[0m\u001b[0;34m\u001b[0m\u001b[0m\n\u001b[0m",
      "\u001b[0;32m_dynet.pyx\u001b[0m in \u001b[0;36m_dynet.ParameterCollection.populate\u001b[0;34m()\u001b[0m\n",
      "\u001b[0;32m_dynet.pyx\u001b[0m in \u001b[0;36m_dynet.ParameterCollection.populate_from_textfile\u001b[0;34m()\u001b[0m\n",
      "\u001b[0;31mRuntimeError\u001b[0m: Could not read model from models/xor_dynamic_model"
     ]
    }
   ],
   "source": [
    "# load\n",
    "m2 = dy.ParameterCollection()\n",
    "pW2 = m2.add_parameters((8,2)) # _dynet.Parameters\n",
    "pV2 = m2.add_parameters((1,8))\n",
    "pb2 = m2.add_parameters((8))\n",
    "m2.populate(\"models/xor_dynamic_model\")"
   ]
  },
  {
   "cell_type": "code",
   "execution_count": 4,
   "metadata": {},
   "outputs": [],
   "source": [
    "W2 = dy.parameter(pW2) #W is of type _dynet.Expression\n",
    "V2 = dy.parameter(pV2)\n",
    "b2 = dy.parameter(pb2)"
   ]
  },
  {
   "cell_type": "code",
   "execution_count": 5,
   "metadata": {},
   "outputs": [
    {
     "data": {
      "text/plain": [
       "array([[ 2.35455251, -0.31278911],\n",
       "       [ 0.02165096,  0.20400636],\n",
       "       [ 0.20177996,  0.25507054],\n",
       "       [-0.79492658,  1.63114166],\n",
       "       [ 2.95638204, -2.04186893],\n",
       "       [-0.91733837, -0.88101178],\n",
       "       [ 2.75860119, -3.49698901],\n",
       "       [-3.08252001, -3.11936283]])"
      ]
     },
     "execution_count": 5,
     "metadata": {},
     "output_type": "execute_result"
    }
   ],
   "source": [
    "W2.value()"
   ]
  },
  {
   "cell_type": "code",
   "execution_count": 6,
   "metadata": {},
   "outputs": [],
   "source": [
    "# create the network\n",
    "x2 = dy.vecInput(2) # an input vector of size 2. _dynet._vecInputExpression\n",
    "output2 = dy.logistic(V2*(dy.tanh((W2*x2)+b2))) # output is _dynet.Expression"
   ]
  },
  {
   "cell_type": "code",
   "execution_count": 7,
   "metadata": {},
   "outputs": [
    {
     "name": "stdout",
     "output_type": "stream",
     "text": [
      "0,1 0.9974074959754944\n",
      "1,0 0.9974489808082581\n",
      "0,0 0.000981291988864541\n",
      "1,1 0.0024815259966999292\n"
     ]
    }
   ],
   "source": [
    "# inference using loaded model\n",
    "x2.set([0,1])\n",
    "print(\"0,1\",output2.value())\n",
    "\n",
    "x2.set([1,0])\n",
    "print(\"1,0\",output2.value())\n",
    "\n",
    "x2.set([0,0])\n",
    "print(\"0,0\",output2.value())\n",
    "\n",
    "x2.set([1,1])\n",
    "print(\"1,1\",output2.value())"
   ]
  },
  {
   "cell_type": "code",
   "execution_count": null,
   "metadata": {},
   "outputs": [],
   "source": []
  }
 ],
 "metadata": {
  "kernelspec": {
   "display_name": "Python 3",
   "language": "python",
   "name": "python3"
  },
  "language_info": {
   "codemirror_mode": {
    "name": "ipython",
    "version": 3
   },
   "file_extension": ".py",
   "mimetype": "text/x-python",
   "name": "python",
   "nbconvert_exporter": "python",
   "pygments_lexer": "ipython3",
   "version": "3.6.3"
  }
 },
 "nbformat": 4,
 "nbformat_minor": 2
}
