{
 "cells": [
  {
   "cell_type": "code",
   "execution_count": 1,
   "metadata": {},
   "outputs": [],
   "source": [
    "import dynet as dy\n",
    "\n",
    "pc = dy.ParameterCollection()\n",
    "W = pc.add_parameters((100,50))\n",
    "E = pc.add_lookup_parameters((1000,50))\n",
    "builder_a = dy.LSTMBuilder(2, 50, 50, pc)\n",
    "builder_b = dy.LSTMBuilder(2, 100, 100, pc)\n",
    "\n",
    "dy.save(\"models/lstm\", [E, builder_b, W])\n",
    "# this will create two files, \"/tmp/model.data\" and \"/tmp/model.meta\"\n",
    "\n",
    "# then, when loading:\n",
    "pc2 = dy.ParameterCollection()\n",
    "E2, builder2, W2 = dy.load(\"models/lstm\", pc2)"
   ]
  },
  {
   "cell_type": "code",
   "execution_count": null,
   "metadata": {},
   "outputs": [],
   "source": []
  }
 ],
 "metadata": {
  "kernelspec": {
   "display_name": "Python 3",
   "language": "python",
   "name": "python3"
  },
  "language_info": {
   "codemirror_mode": {
    "name": "ipython",
    "version": 3
   },
   "file_extension": ".py",
   "mimetype": "text/x-python",
   "name": "python",
   "nbconvert_exporter": "python",
   "pygments_lexer": "ipython3",
   "version": "3.6.3"
  }
 },
 "nbformat": 4,
 "nbformat_minor": 2
}
